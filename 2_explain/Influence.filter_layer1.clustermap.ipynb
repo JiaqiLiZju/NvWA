{
 "cells": [
  {
   "cell_type": "code",
   "execution_count": 1,
   "id": "arctic-breath",
   "metadata": {
    "scrolled": true
   },
   "outputs": [
    {
     "name": "stderr",
     "output_type": "stream",
     "text": [
      "/home/ggj/anaconda3/envs/sc/lib/python3.7/site-packages/anndata/_core/anndata.py:21: FutureWarning: pandas.core.index is deprecated and will be removed in a future version.  The public classes are available in the top-level namespace.\n",
      "  from pandas.core.index import RangeIndex\n"
     ]
    }
   ],
   "source": [
    "import os, h5py\n",
    "import numpy as np\n",
    "import pandas as pd\n",
    "import scanpy as sc\n",
    "import seaborn as sns\n",
    "import matplotlib.pyplot as plt\n",
    "from matplotlib.patches import Patch\n",
    "\n",
    "os.makedirs(\"Influence/\", exist_ok=True)"
   ]
  },
  {
   "cell_type": "code",
   "execution_count": 2,
   "id": "experimental-three",
   "metadata": {},
   "outputs": [],
   "source": [
    "dataset_fname = \"../../../0_Dataset/Dataset.Smed_train_test.h5\"\n",
    "anno_fname = \"../../../0_Annotation_Cellcluster/Smed_GSE111764.cellatlas.annotation.20201215.txt\""
   ]
  },
  {
   "cell_type": "code",
   "execution_count": 3,
   "id": "beautiful-phone",
   "metadata": {},
   "outputs": [
    {
     "data": {
      "text/html": [
       "<div>\n",
       "<style scoped>\n",
       "    .dataframe tbody tr th:only-of-type {\n",
       "        vertical-align: middle;\n",
       "    }\n",
       "\n",
       "    .dataframe tbody tr th {\n",
       "        vertical-align: top;\n",
       "    }\n",
       "\n",
       "    .dataframe thead th {\n",
       "        text-align: right;\n",
       "    }\n",
       "</style>\n",
       "<table border=\"1\" class=\"dataframe\">\n",
       "  <thead>\n",
       "    <tr style=\"text-align: right;\">\n",
       "      <th></th>\n",
       "      <th>Species</th>\n",
       "      <th>Celltype</th>\n",
       "      <th>Cellcluster</th>\n",
       "    </tr>\n",
       "    <tr>\n",
       "      <th>Cell</th>\n",
       "      <th></th>\n",
       "      <th></th>\n",
       "      <th></th>\n",
       "    </tr>\n",
       "  </thead>\n",
       "  <tbody>\n",
       "    <tr>\n",
       "      <th>Cells_Head_AAAAACTTATAA</th>\n",
       "      <td>Planarian</td>\n",
       "      <td>Cathepsin+_cells_C10</td>\n",
       "      <td>Cathepsin</td>\n",
       "    </tr>\n",
       "    <tr>\n",
       "      <th>Cells_Head_AAAACATAGCCC</th>\n",
       "      <td>Planarian</td>\n",
       "      <td>Cathepsin+_cells_C10</td>\n",
       "      <td>Cathepsin</td>\n",
       "    </tr>\n",
       "    <tr>\n",
       "      <th>Cells_Head_AAAACATTGGAT</th>\n",
       "      <td>Planarian</td>\n",
       "      <td>Cathepsin+_cells_C10</td>\n",
       "      <td>Cathepsin</td>\n",
       "    </tr>\n",
       "    <tr>\n",
       "      <th>Cells_Head_AAAATAGTAATA</th>\n",
       "      <td>Planarian</td>\n",
       "      <td>Cathepsin+_cells_C10</td>\n",
       "      <td>Cathepsin</td>\n",
       "    </tr>\n",
       "    <tr>\n",
       "      <th>Cells_Head_AAAATCTCACGG</th>\n",
       "      <td>Planarian</td>\n",
       "      <td>Cathepsin+_cells_C10</td>\n",
       "      <td>Cathepsin</td>\n",
       "    </tr>\n",
       "  </tbody>\n",
       "</table>\n",
       "</div>"
      ],
      "text/plain": [
       "                           Species              Celltype Cellcluster\n",
       "Cell                                                                \n",
       "Cells_Head_AAAAACTTATAA  Planarian  Cathepsin+_cells_C10   Cathepsin\n",
       "Cells_Head_AAAACATAGCCC  Planarian  Cathepsin+_cells_C10   Cathepsin\n",
       "Cells_Head_AAAACATTGGAT  Planarian  Cathepsin+_cells_C10   Cathepsin\n",
       "Cells_Head_AAAATAGTAATA  Planarian  Cathepsin+_cells_C10   Cathepsin\n",
       "Cells_Head_AAAATCTCACGG  Planarian  Cathepsin+_cells_C10   Cathepsin"
      ]
     },
     "execution_count": 3,
     "metadata": {},
     "output_type": "execute_result"
    }
   ],
   "source": [
    "# unpack datasets\n",
    "h5file = h5py.File(dataset_fname, 'r')\n",
    "cell_id = h5file[\"celltype\"][:]\n",
    "h5file.close()\n",
    "\n",
    "anno = pd.read_csv(anno_fname, sep='\\t', index_col=0, header=0).loc[cell_id]\n",
    "# anno['Celltype'] = anno['Celltype'].apply(lambda x: x.split('_')[-1])\n",
    "\n",
    "sel = (anno.Cellcluster != \"Other\") & (anno.Cellcluster != \"RP_high\") & (anno.Cellcluster != \"Yolk\")\n",
    "anno = anno[sel]\n",
    "\n",
    "anno[\"Celltype\"] = anno.Celltype.apply(lambda x: '_'.join(x.split('_')[1:]) + '_' + x.split('_')[0])\n",
    "anno.head()"
   ]
  },
  {
   "cell_type": "code",
   "execution_count": 4,
   "id": "hawaiian-hepatitis",
   "metadata": {},
   "outputs": [],
   "source": [
    "def norm_scale_influe(influe, clip_value=None):\n",
    "    adata = sc.AnnData(influe.copy())\n",
    "\n",
    "    sc.pp.normalize_total(adata, target_sum=10)\n",
    "    sc.pp.log1p(adata)\n",
    "    sc.pp.scale(adata, max_value=np.inf)\n",
    "    \n",
    "    influe = adata.to_df().copy()\n",
    "    if clip_value:\n",
    "        influe = np.clip(influe, -clip_value, clip_value)\n",
    "\n",
    "    return influe\n",
    "\n",
    "\n",
    "def binary_influ(bin_influ_df, t=0.8):\n",
    "    bin_influ_df = bin_influ_df.copy()\n",
    "\n",
    "    t = np.quantile(bin_influ_df.values, t, axis=0)\n",
    "    t[t < 0] = 0\n",
    "    print(max(t), min(t))\n",
    "\n",
    "    bin_influ_df[bin_influ_df <= t] = 0\n",
    "    bin_influ_df[bin_influ_df > t] = 1\n",
    "    bin_influ_df = bin_influ_df[bin_influ_df.sum(1) > 10]\n",
    "\n",
    "    return bin_influ_df"
   ]
  },
  {
   "cell_type": "code",
   "execution_count": 5,
   "id": "subjective-dylan",
   "metadata": {},
   "outputs": [],
   "source": [
    "def draw_influ_clustermap(bin_influ_df, anno, \n",
    "                          col_cluster=False, cmap='vlag', show_fig=True,\n",
    "                          save_prefix=\"positive_influence\", \n",
    "                          save_dendrogram=False): \n",
    "    #import seaborn as sns\n",
    "    #import matplotlib.pyplot as plt\n",
    "    #from matplotlib.patches import Patch\n",
    "    \n",
    "    # clustermap\n",
    "    color = (\"#E6AB02\",  \"#66A61E\", \"#D95F02\", \"#1B9E77\", \"#E7298A\",  \"#E31A1C\", \"#A6761D\"  , \"#B2DF8A\",   \"#FFFF99\",   \"#7570B3\", \"#FF7F00\",  \"#A65628\", \"#B3CDE3\", \"#BC80BD\",     \"#A6CEE3\",\"#984EA3\",   \"#CCEBC5\",  \"#E41A1C\",    \"#4DAF4A\",\"#BEBADA\", \"#B3DE69\", \"#CAB2D6\",\"#FFFFB3\",   \"#33A02C\",\"#B15928\", \"#6A3D9A\",\"#FBB4AE\",    \"blue\",          \"#FB8072\",      \"#FFFF33\",\"#CCEBC5\",      \"#A6761D\",   \"#2c7fb8\",\"#fa9fb5\",  \"#BEBADA\",\"#E7298A\", \"#E7298A\" )\n",
    "    regions = (\"Secretory\", \"Muscle\", \"Neuron\" , \"Immune\", \"Epithelial\", \"Glia\", \"Proliferating\",\"Other\",  \"Neoblast\",\"Protonephridia\",\"Phagocytes\",\"Cathepsin\",\"Rectum\", \"Coelomocytes\",\"Intestine\",\"Hepatocyte\",\"Pharynx\",\"Endothelial\",\"Erythroid\",\"Testis\",\"Mesenchyme\",\"Yolk\", \"Midgut\" ,\"Embryo\",\"Hemocytes\",  \"Fat\",  \"Unknown\",\"Gastrodermis\",\"DigFilaments\",\"Pigment\",\"BasementMembrane\",\"Endoderm\",\"RP_high\",\"FatBody\",\"Male\",\"Nephron\", \"Pancreatic\")\n",
    "    color_regions = {x:y for x,y in zip(regions, color)}\n",
    "\n",
    "    anno[\"colors_lineage\"] = anno[['Cellcluster']].applymap(lambda x: color_regions[x])\n",
    "    anno_color = anno.loc[bin_influ_df.index]\n",
    "    \n",
    "    lut = {cluster:color_regions.get(cluster) for cluster in anno.Cellcluster.unique()}\n",
    "    handles = [Patch(facecolor=lut[name]) for name in lut]\n",
    "    # print(lut)\n",
    "    \n",
    "    plt.figure(figsize=(6, 10))\n",
    "    g = sns.clustermap(bin_influ_df.T, col_cluster=col_cluster,\n",
    "                       cbar_pos=None, xticklabels=False,\n",
    "                       col_colors=anno_color[[\"colors_lineage\"]],\n",
    "                       cmap=cmap, figsize=(18, 30),\n",
    "                       dendrogram_ratio=(.01, .1), colors_ratio=0.01)\n",
    "\n",
    "    plt.legend(handles, lut, title='CellLieange',\n",
    "               bbox_to_anchor=(1, 1), bbox_transform=plt.gcf().transFigure, loc='upper right')\n",
    "\n",
    "    plt.savefig(save_prefix+\".clustermap.pdf\")\n",
    "    if show_fig:\n",
    "        plt.show()\n",
    "    plt.close()\n",
    "    \n",
    "    if save_dendrogram and col_cluster:\n",
    "        anno_color.iloc[g.dendrogram_col.reordered_ind,].to_csv(save_prefix+\".cellanno.csv\")\n",
    "        print(\"saving dendrogram\")"
   ]
  },
  {
   "cell_type": "code",
   "execution_count": 6,
   "id": "polyphonic-store",
   "metadata": {},
   "outputs": [],
   "source": [
    "def melt_influ(bin_influ_df, Var=\"Celltype\", t=None):\n",
    "    bin_influ_df = bin_influ_df.copy()\n",
    "    \n",
    "    bin_influ_df['Var'] = bin_influ_df.index\n",
    "    bin_influ_df = bin_influ_df.melt(id_vars='Var')\n",
    "    bin_influ_df.columns = [Var, \"Motif\", \"Influe\"]\n",
    "    \n",
    "    if t:\n",
    "        bin_influ_df = bin_influ_df[bin_influ_df.value > t]\n",
    "        \n",
    "    return bin_influ_df"
   ]
  },
  {
   "cell_type": "code",
   "execution_count": null,
   "id": "divine-adobe",
   "metadata": {},
   "outputs": [],
   "source": []
  },
  {
   "cell_type": "code",
   "execution_count": 7,
   "id": "innocent-alfred",
   "metadata": {},
   "outputs": [
    {
     "data": {
      "text/html": [
       "<div>\n",
       "<style scoped>\n",
       "    .dataframe tbody tr th:only-of-type {\n",
       "        vertical-align: middle;\n",
       "    }\n",
       "\n",
       "    .dataframe tbody tr th {\n",
       "        vertical-align: top;\n",
       "    }\n",
       "\n",
       "    .dataframe thead th {\n",
       "        text-align: right;\n",
       "    }\n",
       "</style>\n",
       "<table border=\"1\" class=\"dataframe\">\n",
       "  <thead>\n",
       "    <tr style=\"text-align: right;\">\n",
       "      <th></th>\n",
       "      <th>Species</th>\n",
       "      <th>Celltype</th>\n",
       "      <th>Cellcluster</th>\n",
       "    </tr>\n",
       "    <tr>\n",
       "      <th>Cell</th>\n",
       "      <th></th>\n",
       "      <th></th>\n",
       "      <th></th>\n",
       "    </tr>\n",
       "  </thead>\n",
       "  <tbody>\n",
       "    <tr>\n",
       "      <th>Cells_Trunk_TCGCTAGACCCT</th>\n",
       "      <td>Planarian</td>\n",
       "      <td>Neoblast_C0</td>\n",
       "      <td>Neoblast</td>\n",
       "    </tr>\n",
       "    <tr>\n",
       "      <th>Cells_Trunk_GCCATAGCATTC</th>\n",
       "      <td>Planarian</td>\n",
       "      <td>Parapharyngeal_C12</td>\n",
       "      <td>Pharynx</td>\n",
       "    </tr>\n",
       "    <tr>\n",
       "      <th>Cells_Tail_GCACCAAAATGA</th>\n",
       "      <td>Planarian</td>\n",
       "      <td>Protonephridia_C29</td>\n",
       "      <td>Protonephridia</td>\n",
       "    </tr>\n",
       "    <tr>\n",
       "      <th>Cells_Trunk_GACCTTGCATTA</th>\n",
       "      <td>Planarian</td>\n",
       "      <td>Intestine_C19</td>\n",
       "      <td>Intestine</td>\n",
       "    </tr>\n",
       "    <tr>\n",
       "      <th>Cells_Tail_ATAAGATTACAA</th>\n",
       "      <td>Planarian</td>\n",
       "      <td>Epidermal_C3</td>\n",
       "      <td>Epithelial</td>\n",
       "    </tr>\n",
       "  </tbody>\n",
       "</table>\n",
       "</div>"
      ],
      "text/plain": [
       "                            Species            Celltype     Cellcluster\n",
       "Cell                                                                   \n",
       "Cells_Trunk_TCGCTAGACCCT  Planarian         Neoblast_C0        Neoblast\n",
       "Cells_Trunk_GCCATAGCATTC  Planarian  Parapharyngeal_C12         Pharynx\n",
       "Cells_Tail_GCACCAAAATGA   Planarian  Protonephridia_C29  Protonephridia\n",
       "Cells_Trunk_GACCTTGCATTA  Planarian       Intestine_C19       Intestine\n",
       "Cells_Tail_ATAAGATTACAA   Planarian        Epidermal_C3      Epithelial"
      ]
     },
     "execution_count": 7,
     "metadata": {},
     "output_type": "execute_result"
    }
   ],
   "source": [
    "sample_mask = anno.sample(1000).index #\n",
    "anno_color = anno.loc[sample_mask]\n",
    "anno_color.head()"
   ]
  },
  {
   "cell_type": "code",
   "execution_count": 8,
   "id": "bacterial-cleaners",
   "metadata": {},
   "outputs": [
    {
     "data": {
      "text/html": [
       "<div>\n",
       "<style scoped>\n",
       "    .dataframe tbody tr th:only-of-type {\n",
       "        vertical-align: middle;\n",
       "    }\n",
       "\n",
       "    .dataframe tbody tr th {\n",
       "        vertical-align: top;\n",
       "    }\n",
       "\n",
       "    .dataframe thead th {\n",
       "        text-align: right;\n",
       "    }\n",
       "</style>\n",
       "<table border=\"1\" class=\"dataframe\">\n",
       "  <thead>\n",
       "    <tr style=\"text-align: right;\">\n",
       "      <th></th>\n",
       "      <th>Motif_0</th>\n",
       "      <th>Motif_1</th>\n",
       "      <th>Motif_2</th>\n",
       "      <th>Motif_3</th>\n",
       "    </tr>\n",
       "    <tr>\n",
       "      <th>Cell</th>\n",
       "      <th></th>\n",
       "      <th></th>\n",
       "      <th></th>\n",
       "      <th></th>\n",
       "    </tr>\n",
       "  </thead>\n",
       "  <tbody>\n",
       "    <tr>\n",
       "      <th>Cells_Trunk_TCGCTAGACCCT</th>\n",
       "      <td>-0.004236</td>\n",
       "      <td>-0.082922</td>\n",
       "      <td>0.002394</td>\n",
       "      <td>-0.025425</td>\n",
       "    </tr>\n",
       "    <tr>\n",
       "      <th>Cells_Trunk_GCCATAGCATTC</th>\n",
       "      <td>-0.014082</td>\n",
       "      <td>-0.084870</td>\n",
       "      <td>0.001910</td>\n",
       "      <td>-0.013648</td>\n",
       "    </tr>\n",
       "    <tr>\n",
       "      <th>Cells_Tail_GCACCAAAATGA</th>\n",
       "      <td>-0.015534</td>\n",
       "      <td>-0.075561</td>\n",
       "      <td>0.001222</td>\n",
       "      <td>-0.008166</td>\n",
       "    </tr>\n",
       "    <tr>\n",
       "      <th>Cells_Trunk_GACCTTGCATTA</th>\n",
       "      <td>-0.006224</td>\n",
       "      <td>-0.154478</td>\n",
       "      <td>0.020285</td>\n",
       "      <td>-0.032195</td>\n",
       "    </tr>\n",
       "    <tr>\n",
       "      <th>Cells_Tail_ATAAGATTACAA</th>\n",
       "      <td>-0.003569</td>\n",
       "      <td>-0.124139</td>\n",
       "      <td>0.015536</td>\n",
       "      <td>-0.025656</td>\n",
       "    </tr>\n",
       "  </tbody>\n",
       "</table>\n",
       "</div>"
      ],
      "text/plain": [
       "                           Motif_0   Motif_1   Motif_2   Motif_3\n",
       "Cell                                                            \n",
       "Cells_Trunk_TCGCTAGACCCT -0.004236 -0.082922  0.002394 -0.025425\n",
       "Cells_Trunk_GCCATAGCATTC -0.014082 -0.084870  0.001910 -0.013648\n",
       "Cells_Tail_GCACCAAAATGA  -0.015534 -0.075561  0.001222 -0.008166\n",
       "Cells_Trunk_GACCTTGCATTA -0.006224 -0.154478  0.020285 -0.032195\n",
       "Cells_Tail_ATAAGATTACAA  -0.003569 -0.124139  0.015536 -0.025656"
      ]
     },
     "execution_count": 8,
     "metadata": {},
     "output_type": "execute_result"
    }
   ],
   "source": [
    "kernal_influence = 1 - pd.read_pickle(\"./influence_conv1.p\", compression='xz').T.astype(float)[sel]\n",
    "kernal_influence = kernal_influence.loc[sample_mask]\n",
    "\n",
    "kernal_influence.columns = kernal_influence.columns.map(lambda x: 'Motif_' + str(x))\n",
    "kernal_influence.iloc[:5,:4]"
   ]
  },
  {
   "cell_type": "code",
   "execution_count": null,
   "id": "loaded-jacksonville",
   "metadata": {},
   "outputs": [],
   "source": []
  },
  {
   "cell_type": "markdown",
   "id": "worth-mozambique",
   "metadata": {},
   "source": [
    "# Positive influence"
   ]
  },
  {
   "cell_type": "code",
   "execution_count": 9,
   "id": "announced-reviewer",
   "metadata": {},
   "outputs": [],
   "source": [
    "prefix = \"./Influence/positive_influence\""
   ]
  },
  {
   "cell_type": "code",
   "execution_count": 10,
   "id": "selected-factory",
   "metadata": {
    "scrolled": false
   },
   "outputs": [
    {
     "data": {
      "text/html": [
       "<div>\n",
       "<style scoped>\n",
       "    .dataframe tbody tr th:only-of-type {\n",
       "        vertical-align: middle;\n",
       "    }\n",
       "\n",
       "    .dataframe tbody tr th {\n",
       "        vertical-align: top;\n",
       "    }\n",
       "\n",
       "    .dataframe thead th {\n",
       "        text-align: right;\n",
       "    }\n",
       "</style>\n",
       "<table border=\"1\" class=\"dataframe\">\n",
       "  <thead>\n",
       "    <tr style=\"text-align: right;\">\n",
       "      <th></th>\n",
       "      <th>Motif_0</th>\n",
       "      <th>Motif_2</th>\n",
       "      <th>Motif_4</th>\n",
       "      <th>Motif_6</th>\n",
       "    </tr>\n",
       "    <tr>\n",
       "      <th>Cell</th>\n",
       "      <th></th>\n",
       "      <th></th>\n",
       "      <th></th>\n",
       "      <th></th>\n",
       "    </tr>\n",
       "  </thead>\n",
       "  <tbody>\n",
       "    <tr>\n",
       "      <th>Cells_Head_CTTCATTTGATG</th>\n",
       "      <td>0.0</td>\n",
       "      <td>0.000000</td>\n",
       "      <td>0.0</td>\n",
       "      <td>0.000735</td>\n",
       "    </tr>\n",
       "    <tr>\n",
       "      <th>Cells_Trunk_ACTTCCCCCGGN</th>\n",
       "      <td>0.0</td>\n",
       "      <td>0.007595</td>\n",
       "      <td>0.0</td>\n",
       "      <td>0.000000</td>\n",
       "    </tr>\n",
       "    <tr>\n",
       "      <th>Cells_Head_CTCTCTGTACTT</th>\n",
       "      <td>0.0</td>\n",
       "      <td>0.008597</td>\n",
       "      <td>0.0</td>\n",
       "      <td>0.000000</td>\n",
       "    </tr>\n",
       "    <tr>\n",
       "      <th>Cells_Head_TTGTCTAAAGGC</th>\n",
       "      <td>0.0</td>\n",
       "      <td>0.003522</td>\n",
       "      <td>0.0</td>\n",
       "      <td>0.000000</td>\n",
       "    </tr>\n",
       "    <tr>\n",
       "      <th>Cells_Pharynx_CCTCCCGCCGGC</th>\n",
       "      <td>0.0</td>\n",
       "      <td>0.014877</td>\n",
       "      <td>0.0</td>\n",
       "      <td>0.000000</td>\n",
       "    </tr>\n",
       "  </tbody>\n",
       "</table>\n",
       "</div>"
      ],
      "text/plain": [
       "                            Motif_0   Motif_2  Motif_4   Motif_6\n",
       "Cell                                                            \n",
       "Cells_Head_CTTCATTTGATG         0.0  0.000000      0.0  0.000735\n",
       "Cells_Trunk_ACTTCCCCCGGN        0.0  0.007595      0.0  0.000000\n",
       "Cells_Head_CTCTCTGTACTT         0.0  0.008597      0.0  0.000000\n",
       "Cells_Head_TTGTCTAAAGGC         0.0  0.003522      0.0  0.000000\n",
       "Cells_Pharynx_CCTCCCGCCGGC      0.0  0.014877      0.0  0.000000"
      ]
     },
     "execution_count": 10,
     "metadata": {},
     "output_type": "execute_result"
    }
   ],
   "source": [
    "influence_pos = kernal_influence.copy()\n",
    "influence_pos[influence_pos < 0] = 0\n",
    "influence_pos = influence_pos.loc[:,influence_pos.sum(0)!=0]\n",
    "influence_pos = influence_pos.loc[anno.loc[influence_pos.index].sort_values([\"Cellcluster\", \"Celltype\"]).index]\n",
    "influence_pos.iloc[:5,:4]"
   ]
  },
  {
   "cell_type": "code",
   "execution_count": 11,
   "id": "trained-mineral",
   "metadata": {},
   "outputs": [
    {
     "data": {
      "text/plain": [
       "<matplotlib.axes._subplots.AxesSubplot at 0x7f69ac6a43d0>"
      ]
     },
     "execution_count": 11,
     "metadata": {},
     "output_type": "execute_result"
    },
    {
     "data": {
      "image/png": "[encoded data removed]",
      "text/plain": [
       "<Figure size 432x288 with 1 Axes>"
      ]
     },
     "metadata": {
      "needs_background": "light"
     },
     "output_type": "display_data"
    }
   ],
   "source": [
    "influence_pos = norm_scale_influe(influence_pos, clip_value=2)\n",
    "sns.distplot(influence_pos.values)"
   ]
  },
  {
   "cell_type": "code",
   "execution_count": 12,
   "id": "alike-charleston",
   "metadata": {
    "scrolled": true
   },
   "outputs": [
    {
     "data": {
      "text/plain": [
       "<Figure size 432x720 with 0 Axes>"
      ]
     },
     "metadata": {},
     "output_type": "display_data"
    }
   ],
   "source": [
    "draw_influ_clustermap(influence_pos, anno, show_fig=False,\n",
    "               save_prefix=prefix, save_dendrogram=True)"
   ]
  },
  {
   "cell_type": "code",
   "execution_count": 13,
   "id": "solved-fifteen",
   "metadata": {},
   "outputs": [
    {
     "name": "stdout",
     "output_type": "stream",
     "text": [
      "1.196873426437378 0.0\n"
     ]
    },
    {
     "data": {
      "text/html": [
       "<div>\n",
       "<style scoped>\n",
       "    .dataframe tbody tr th:only-of-type {\n",
       "        vertical-align: middle;\n",
       "    }\n",
       "\n",
       "    .dataframe tbody tr th {\n",
       "        vertical-align: top;\n",
       "    }\n",
       "\n",
       "    .dataframe thead th {\n",
       "        text-align: right;\n",
       "    }\n",
       "</style>\n",
       "<table border=\"1\" class=\"dataframe\">\n",
       "  <thead>\n",
       "    <tr style=\"text-align: right;\">\n",
       "      <th></th>\n",
       "      <th>Motif_0</th>\n",
       "      <th>Motif_2</th>\n",
       "      <th>Motif_4</th>\n",
       "      <th>Motif_6</th>\n",
       "    </tr>\n",
       "    <tr>\n",
       "      <th>Cell</th>\n",
       "      <th></th>\n",
       "      <th></th>\n",
       "      <th></th>\n",
       "      <th></th>\n",
       "    </tr>\n",
       "  </thead>\n",
       "  <tbody>\n",
       "    <tr>\n",
       "      <th>Cells_Head_CTTCATTTGATG</th>\n",
       "      <td>0.0</td>\n",
       "      <td>0.0</td>\n",
       "      <td>0.0</td>\n",
       "      <td>1.0</td>\n",
       "    </tr>\n",
       "    <tr>\n",
       "      <th>Cells_Trunk_ACTTCCCCCGGN</th>\n",
       "      <td>0.0</td>\n",
       "      <td>1.0</td>\n",
       "      <td>0.0</td>\n",
       "      <td>0.0</td>\n",
       "    </tr>\n",
       "    <tr>\n",
       "      <th>Cells_Head_TTGTCTAAAGGC</th>\n",
       "      <td>0.0</td>\n",
       "      <td>0.0</td>\n",
       "      <td>0.0</td>\n",
       "      <td>0.0</td>\n",
       "    </tr>\n",
       "    <tr>\n",
       "      <th>Cells_Head_TTAGCGTACCTC</th>\n",
       "      <td>0.0</td>\n",
       "      <td>0.0</td>\n",
       "      <td>0.0</td>\n",
       "      <td>0.0</td>\n",
       "    </tr>\n",
       "    <tr>\n",
       "      <th>Cells_Head_AGAGAACCTACG</th>\n",
       "      <td>0.0</td>\n",
       "      <td>0.0</td>\n",
       "      <td>0.0</td>\n",
       "      <td>0.0</td>\n",
       "    </tr>\n",
       "  </tbody>\n",
       "</table>\n",
       "</div>"
      ],
      "text/plain": [
       "                          Motif_0  Motif_2  Motif_4  Motif_6\n",
       "Cell                                                        \n",
       "Cells_Head_CTTCATTTGATG       0.0      0.0      0.0      1.0\n",
       "Cells_Trunk_ACTTCCCCCGGN      0.0      1.0      0.0      0.0\n",
       "Cells_Head_TTGTCTAAAGGC       0.0      0.0      0.0      0.0\n",
       "Cells_Head_TTAGCGTACCTC       0.0      0.0      0.0      0.0\n",
       "Cells_Head_AGAGAACCTACG       0.0      0.0      0.0      0.0"
      ]
     },
     "execution_count": 13,
     "metadata": {},
     "output_type": "execute_result"
    }
   ],
   "source": [
    "bin_influ = binary_influ(influence_pos)\n",
    "bin_influ.iloc[:5,:4]"
   ]
  },
  {
   "cell_type": "code",
   "execution_count": 14,
   "id": "dominant-parade",
   "metadata": {},
   "outputs": [
    {
     "name": "stdout",
     "output_type": "stream",
     "text": [
      "saving dendrogram\n"
     ]
    },
    {
     "data": {
      "text/plain": [
       "<Figure size 432x720 with 0 Axes>"
      ]
     },
     "metadata": {},
     "output_type": "display_data"
    }
   ],
   "source": [
    "draw_influ_clustermap(bin_influ, anno, show_fig=False,\n",
    "               save_prefix= prefix+\"_bin\", \n",
    "               col_cluster=True, cmap='Greys', \n",
    "                save_dendrogram=True)"
   ]
  },
  {
   "cell_type": "code",
   "execution_count": null,
   "id": "respiratory-interface",
   "metadata": {},
   "outputs": [],
   "source": []
  },
  {
   "cell_type": "code",
   "execution_count": 15,
   "id": "architectural-iceland",
   "metadata": {},
   "outputs": [
    {
     "data": {
      "text/html": [
       "<div>\n",
       "<style scoped>\n",
       "    .dataframe tbody tr th:only-of-type {\n",
       "        vertical-align: middle;\n",
       "    }\n",
       "\n",
       "    .dataframe tbody tr th {\n",
       "        vertical-align: top;\n",
       "    }\n",
       "\n",
       "    .dataframe thead th {\n",
       "        text-align: right;\n",
       "    }\n",
       "</style>\n",
       "<table border=\"1\" class=\"dataframe\">\n",
       "  <thead>\n",
       "    <tr style=\"text-align: right;\">\n",
       "      <th></th>\n",
       "      <th>Motif_0</th>\n",
       "      <th>Motif_2</th>\n",
       "      <th>Motif_4</th>\n",
       "      <th>Motif_6</th>\n",
       "    </tr>\n",
       "    <tr>\n",
       "      <th>Celltype</th>\n",
       "      <th></th>\n",
       "      <th></th>\n",
       "      <th></th>\n",
       "      <th></th>\n",
       "    </tr>\n",
       "  </thead>\n",
       "  <tbody>\n",
       "    <tr>\n",
       "      <th>Cathepsin+_cells_C10</th>\n",
       "      <td>-0.140762</td>\n",
       "      <td>0.438826</td>\n",
       "      <td>-0.165601</td>\n",
       "      <td>-0.045661</td>\n",
       "    </tr>\n",
       "    <tr>\n",
       "      <th>Cathepsin+_cells_C15</th>\n",
       "      <td>-0.140762</td>\n",
       "      <td>0.256865</td>\n",
       "      <td>-0.165601</td>\n",
       "      <td>-0.147944</td>\n",
       "    </tr>\n",
       "    <tr>\n",
       "      <th>Cathepsin+_cells_C17</th>\n",
       "      <td>-0.140762</td>\n",
       "      <td>0.606805</td>\n",
       "      <td>-0.165601</td>\n",
       "      <td>-0.147944</td>\n",
       "    </tr>\n",
       "    <tr>\n",
       "      <th>Cathepsin+_cells_C28</th>\n",
       "      <td>-0.140762</td>\n",
       "      <td>0.301423</td>\n",
       "      <td>-0.165601</td>\n",
       "      <td>0.281645</td>\n",
       "    </tr>\n",
       "    <tr>\n",
       "      <th>Cathepsin+_cells_C31</th>\n",
       "      <td>-0.140762</td>\n",
       "      <td>0.759432</td>\n",
       "      <td>-0.165601</td>\n",
       "      <td>-0.147944</td>\n",
       "    </tr>\n",
       "  </tbody>\n",
       "</table>\n",
       "</div>"
      ],
      "text/plain": [
       "                       Motif_0   Motif_2   Motif_4   Motif_6\n",
       "Celltype                                                    \n",
       "Cathepsin+_cells_C10 -0.140762  0.438826 -0.165601 -0.045661\n",
       "Cathepsin+_cells_C15 -0.140762  0.256865 -0.165601 -0.147944\n",
       "Cathepsin+_cells_C17 -0.140762  0.606805 -0.165601 -0.147944\n",
       "Cathepsin+_cells_C28 -0.140762  0.301423 -0.165601  0.281645\n",
       "Cathepsin+_cells_C31 -0.140762  0.759432 -0.165601 -0.147944"
      ]
     },
     "execution_count": 15,
     "metadata": {},
     "output_type": "execute_result"
    }
   ],
   "source": [
    "anno_celltype = anno_color.drop_duplicates([\"Celltype\", \"Cellcluster\"]).set_index(\"Celltype\")\n",
    "influ_celltype = influence_pos.groupby(anno_color.Celltype).mean()\n",
    "influ_celltype.iloc[:5,:4]"
   ]
  },
  {
   "cell_type": "code",
   "execution_count": 16,
   "id": "appreciated-pharmaceutical",
   "metadata": {
    "scrolled": true
   },
   "outputs": [
    {
     "data": {
      "text/plain": [
       "<Figure size 432x720 with 0 Axes>"
      ]
     },
     "metadata": {},
     "output_type": "display_data"
    }
   ],
   "source": [
    "draw_influ_clustermap(influ_celltype, anno_celltype, show_fig=False,\n",
    "               save_prefix= prefix+\"_celltype\", \n",
    "               col_cluster=False, cmap='vlag')"
   ]
  },
  {
   "cell_type": "code",
   "execution_count": 17,
   "id": "trained-grounds",
   "metadata": {},
   "outputs": [],
   "source": [
    "melt_influ(influ_celltype).to_csv(prefix+\"_celltype.csv\")"
   ]
  },
  {
   "cell_type": "code",
   "execution_count": null,
   "id": "comic-secretariat",
   "metadata": {},
   "outputs": [],
   "source": []
  },
  {
   "cell_type": "code",
   "execution_count": 18,
   "id": "binding-worst",
   "metadata": {},
   "outputs": [
    {
     "name": "stdout",
     "output_type": "stream",
     "text": [
      "1.441820621490479 0.0\n"
     ]
    },
    {
     "data": {
      "text/html": [
       "<div>\n",
       "<style scoped>\n",
       "    .dataframe tbody tr th:only-of-type {\n",
       "        vertical-align: middle;\n",
       "    }\n",
       "\n",
       "    .dataframe tbody tr th {\n",
       "        vertical-align: top;\n",
       "    }\n",
       "\n",
       "    .dataframe thead th {\n",
       "        text-align: right;\n",
       "    }\n",
       "</style>\n",
       "<table border=\"1\" class=\"dataframe\">\n",
       "  <thead>\n",
       "    <tr style=\"text-align: right;\">\n",
       "      <th></th>\n",
       "      <th>Motif_0</th>\n",
       "      <th>Motif_2</th>\n",
       "      <th>Motif_4</th>\n",
       "      <th>Motif_6</th>\n",
       "    </tr>\n",
       "    <tr>\n",
       "      <th>Celltype</th>\n",
       "      <th></th>\n",
       "      <th></th>\n",
       "      <th></th>\n",
       "      <th></th>\n",
       "    </tr>\n",
       "  </thead>\n",
       "  <tbody>\n",
       "    <tr>\n",
       "      <th>Cathepsin+_cells_C10</th>\n",
       "      <td>0.0</td>\n",
       "      <td>0.0</td>\n",
       "      <td>0.0</td>\n",
       "      <td>0.0</td>\n",
       "    </tr>\n",
       "    <tr>\n",
       "      <th>Cathepsin+_cells_C15</th>\n",
       "      <td>0.0</td>\n",
       "      <td>0.0</td>\n",
       "      <td>0.0</td>\n",
       "      <td>0.0</td>\n",
       "    </tr>\n",
       "    <tr>\n",
       "      <th>Cathepsin+_cells_C28</th>\n",
       "      <td>0.0</td>\n",
       "      <td>0.0</td>\n",
       "      <td>0.0</td>\n",
       "      <td>1.0</td>\n",
       "    </tr>\n",
       "    <tr>\n",
       "      <th>Cathepsin+_cells_C39</th>\n",
       "      <td>0.0</td>\n",
       "      <td>0.0</td>\n",
       "      <td>0.0</td>\n",
       "      <td>1.0</td>\n",
       "    </tr>\n",
       "    <tr>\n",
       "      <th>Cathepsin+_cells_C41</th>\n",
       "      <td>0.0</td>\n",
       "      <td>1.0</td>\n",
       "      <td>0.0</td>\n",
       "      <td>0.0</td>\n",
       "    </tr>\n",
       "  </tbody>\n",
       "</table>\n",
       "</div>"
      ],
      "text/plain": [
       "                      Motif_0  Motif_2  Motif_4  Motif_6\n",
       "Celltype                                                \n",
       "Cathepsin+_cells_C10      0.0      0.0      0.0      0.0\n",
       "Cathepsin+_cells_C15      0.0      0.0      0.0      0.0\n",
       "Cathepsin+_cells_C28      0.0      0.0      0.0      1.0\n",
       "Cathepsin+_cells_C39      0.0      0.0      0.0      1.0\n",
       "Cathepsin+_cells_C41      0.0      1.0      0.0      0.0"
      ]
     },
     "execution_count": 18,
     "metadata": {},
     "output_type": "execute_result"
    }
   ],
   "source": [
    "bin_influ_celltype = binary_influ(influ_celltype)\n",
    "bin_influ_celltype.iloc[:5,:4]"
   ]
  },
  {
   "cell_type": "code",
   "execution_count": 19,
   "id": "therapeutic-guide",
   "metadata": {},
   "outputs": [
    {
     "name": "stdout",
     "output_type": "stream",
     "text": [
      "saving dendrogram\n"
     ]
    },
    {
     "data": {
      "text/plain": [
       "<Figure size 432x720 with 0 Axes>"
      ]
     },
     "metadata": {},
     "output_type": "display_data"
    }
   ],
   "source": [
    "draw_influ_clustermap(bin_influ_celltype, anno_celltype, show_fig=False,\n",
    "               save_prefix= prefix+\"_celltype_bin\", \n",
    "               col_cluster=True, cmap='Greys', \n",
    "                save_dendrogram=True)"
   ]
  },
  {
   "cell_type": "code",
   "execution_count": null,
   "id": "international-compilation",
   "metadata": {},
   "outputs": [],
   "source": []
  },
  {
   "cell_type": "code",
   "execution_count": 20,
   "id": "dynamic-facing",
   "metadata": {},
   "outputs": [
    {
     "data": {
      "text/html": [
       "<div>\n",
       "<style scoped>\n",
       "    .dataframe tbody tr th:only-of-type {\n",
       "        vertical-align: middle;\n",
       "    }\n",
       "\n",
       "    .dataframe tbody tr th {\n",
       "        vertical-align: top;\n",
       "    }\n",
       "\n",
       "    .dataframe thead th {\n",
       "        text-align: right;\n",
       "    }\n",
       "</style>\n",
       "<table border=\"1\" class=\"dataframe\">\n",
       "  <thead>\n",
       "    <tr style=\"text-align: right;\">\n",
       "      <th></th>\n",
       "      <th>Motif_0</th>\n",
       "      <th>Motif_2</th>\n",
       "      <th>Motif_4</th>\n",
       "      <th>Motif_6</th>\n",
       "    </tr>\n",
       "    <tr>\n",
       "      <th>Cellcluster</th>\n",
       "      <th></th>\n",
       "      <th></th>\n",
       "      <th></th>\n",
       "      <th></th>\n",
       "    </tr>\n",
       "  </thead>\n",
       "  <tbody>\n",
       "    <tr>\n",
       "      <th>Cathepsin</th>\n",
       "      <td>-0.140762</td>\n",
       "      <td>0.379913</td>\n",
       "      <td>-0.147916</td>\n",
       "      <td>-0.085230</td>\n",
       "    </tr>\n",
       "    <tr>\n",
       "      <th>Epithelial</th>\n",
       "      <td>-0.140762</td>\n",
       "      <td>-0.137944</td>\n",
       "      <td>-0.165601</td>\n",
       "      <td>-0.088782</td>\n",
       "    </tr>\n",
       "    <tr>\n",
       "      <th>Intestine</th>\n",
       "      <td>-0.140762</td>\n",
       "      <td>0.377695</td>\n",
       "      <td>-0.165601</td>\n",
       "      <td>-0.114382</td>\n",
       "    </tr>\n",
       "    <tr>\n",
       "      <th>Muscle</th>\n",
       "      <td>-0.140762</td>\n",
       "      <td>-0.549678</td>\n",
       "      <td>-0.165601</td>\n",
       "      <td>-0.127290</td>\n",
       "    </tr>\n",
       "    <tr>\n",
       "      <th>Neoblast</th>\n",
       "      <td>-0.140762</td>\n",
       "      <td>-0.183344</td>\n",
       "      <td>-0.165601</td>\n",
       "      <td>-0.004902</td>\n",
       "    </tr>\n",
       "  </tbody>\n",
       "</table>\n",
       "</div>"
      ],
      "text/plain": [
       "              Motif_0   Motif_2   Motif_4   Motif_6\n",
       "Cellcluster                                        \n",
       "Cathepsin   -0.140762  0.379913 -0.147916 -0.085230\n",
       "Epithelial  -0.140762 -0.137944 -0.165601 -0.088782\n",
       "Intestine   -0.140762  0.377695 -0.165601 -0.114382\n",
       "Muscle      -0.140762 -0.549678 -0.165601 -0.127290\n",
       "Neoblast    -0.140762 -0.183344 -0.165601 -0.004902"
      ]
     },
     "execution_count": 20,
     "metadata": {},
     "output_type": "execute_result"
    }
   ],
   "source": [
    "anno_cluster = anno_color.drop_duplicates([\"Cellcluster\"])\n",
    "anno_cluster.index = anno_cluster.Cellcluster\n",
    "\n",
    "influ_cluster = influence_pos.groupby(anno_color.Cellcluster).mean()\n",
    "influ_cluster.iloc[:5,:4]"
   ]
  },
  {
   "cell_type": "code",
   "execution_count": 21,
   "id": "polish-nursery",
   "metadata": {
    "scrolled": true
   },
   "outputs": [
    {
     "name": "stderr",
     "output_type": "stream",
     "text": [
      "/home/ggj/anaconda3/envs/sc/lib/python3.7/site-packages/ipykernel_launcher.py:14: SettingWithCopyWarning: \n",
      "A value is trying to be set on a copy of a slice from a DataFrame.\n",
      "Try using .loc[row_indexer,col_indexer] = value instead\n",
      "\n",
      "See the caveats in the documentation: https://pandas.pydata.org/pandas-docs/stable/user_guide/indexing.html#returning-a-view-versus-a-copy\n",
      "  \n"
     ]
    },
    {
     "data": {
      "text/plain": [
       "<Figure size 432x720 with 0 Axes>"
      ]
     },
     "metadata": {},
     "output_type": "display_data"
    }
   ],
   "source": [
    "draw_influ_clustermap(influ_cluster, anno_cluster, show_fig=False,\n",
    "               save_prefix= prefix+\"_cluster\", \n",
    "               col_cluster=True, cmap='vlag')"
   ]
  },
  {
   "cell_type": "code",
   "execution_count": 22,
   "id": "creative-rwanda",
   "metadata": {},
   "outputs": [],
   "source": [
    "melt_influ(influ_cluster, Var=\"Cluster\").to_csv(prefix+\"_cluster.csv\")"
   ]
  },
  {
   "cell_type": "code",
   "execution_count": null,
   "id": "confident-drink",
   "metadata": {},
   "outputs": [],
   "source": []
  },
  {
   "cell_type": "code",
   "execution_count": 70,
   "id": "separated-definition",
   "metadata": {},
   "outputs": [],
   "source": [
    "# bin_influ_celltype_corr = bin_influ_celltype.corr()"
   ]
  },
  {
   "cell_type": "code",
   "execution_count": 19,
   "id": "legitimate-electron",
   "metadata": {},
   "outputs": [],
   "source": [
    "# plt.figure(figsize=(1, 1))\n",
    "# g = sns.clustermap(bin_influ_celltype_corr, \n",
    "#                    col_cluster=False, row_cluster=False,\n",
    "#                    cbar_pos=None, xticklabels=False, yticklabels=False,\n",
    "#                    col_colors=anno_celltype_color[[\"colors_lineage\"]],\n",
    "#                    row_colors=anno_celltype_color[[\"colors_lineage\"]],\n",
    "#                    cmap='vlag', figsize=(5, 5),\n",
    "#                    dendrogram_ratio=(.01, .1), colors_ratio=0.01)\n",
    "\n",
    "# handles = [Patch(facecolor=lut[name]) for name in lut]\n",
    "# plt.legend(handles, lut, title='CellLieange',\n",
    "#            bbox_to_anchor=(1, 1), bbox_transform=plt.gcf().transFigure, loc='upper right')\n",
    "\n",
    "# # plt.savefig(\"positive.influence.clustermap.pdf\")\n",
    "# plt.show()\n",
    "# plt.close()"
   ]
  },
  {
   "cell_type": "code",
   "execution_count": null,
   "id": "sporting-measure",
   "metadata": {},
   "outputs": [],
   "source": []
  },
  {
   "cell_type": "markdown",
   "id": "jewish-malpractice",
   "metadata": {},
   "source": [
    "# Negative influence"
   ]
  },
  {
   "cell_type": "code",
   "execution_count": 23,
   "id": "european-couple",
   "metadata": {},
   "outputs": [],
   "source": [
    "prefix = \"./Influence/nagative_influence\""
   ]
  },
  {
   "cell_type": "code",
   "execution_count": 24,
   "id": "negative-breeding",
   "metadata": {
    "scrolled": false
   },
   "outputs": [
    {
     "data": {
      "text/html": [
       "<div>\n",
       "<style scoped>\n",
       "    .dataframe tbody tr th:only-of-type {\n",
       "        vertical-align: middle;\n",
       "    }\n",
       "\n",
       "    .dataframe tbody tr th {\n",
       "        vertical-align: top;\n",
       "    }\n",
       "\n",
       "    .dataframe thead th {\n",
       "        text-align: right;\n",
       "    }\n",
       "</style>\n",
       "<table border=\"1\" class=\"dataframe\">\n",
       "  <thead>\n",
       "    <tr style=\"text-align: right;\">\n",
       "      <th></th>\n",
       "      <th>Motif_0</th>\n",
       "      <th>Motif_1</th>\n",
       "      <th>Motif_2</th>\n",
       "      <th>Motif_3</th>\n",
       "    </tr>\n",
       "    <tr>\n",
       "      <th>Cell</th>\n",
       "      <th></th>\n",
       "      <th></th>\n",
       "      <th></th>\n",
       "      <th></th>\n",
       "    </tr>\n",
       "  </thead>\n",
       "  <tbody>\n",
       "    <tr>\n",
       "      <th>Cells_Head_CTTCATTTGATG</th>\n",
       "      <td>0.003257</td>\n",
       "      <td>0.041779</td>\n",
       "      <td>0.006262</td>\n",
       "      <td>0.018318</td>\n",
       "    </tr>\n",
       "    <tr>\n",
       "      <th>Cells_Trunk_ACTTCCCCCGGN</th>\n",
       "      <td>0.001572</td>\n",
       "      <td>0.104224</td>\n",
       "      <td>0.000000</td>\n",
       "      <td>0.031004</td>\n",
       "    </tr>\n",
       "    <tr>\n",
       "      <th>Cells_Head_CTCTCTGTACTT</th>\n",
       "      <td>0.003284</td>\n",
       "      <td>0.099307</td>\n",
       "      <td>0.000000</td>\n",
       "      <td>0.025072</td>\n",
       "    </tr>\n",
       "    <tr>\n",
       "      <th>Cells_Head_TTGTCTAAAGGC</th>\n",
       "      <td>0.003064</td>\n",
       "      <td>0.071938</td>\n",
       "      <td>0.000000</td>\n",
       "      <td>0.021227</td>\n",
       "    </tr>\n",
       "    <tr>\n",
       "      <th>Cells_Pharynx_CCTCCCGCCGGC</th>\n",
       "      <td>0.003299</td>\n",
       "      <td>0.117835</td>\n",
       "      <td>0.000000</td>\n",
       "      <td>0.026228</td>\n",
       "    </tr>\n",
       "  </tbody>\n",
       "</table>\n",
       "</div>"
      ],
      "text/plain": [
       "                             Motif_0   Motif_1   Motif_2   Motif_3\n",
       "Cell                                                              \n",
       "Cells_Head_CTTCATTTGATG     0.003257  0.041779  0.006262  0.018318\n",
       "Cells_Trunk_ACTTCCCCCGGN    0.001572  0.104224  0.000000  0.031004\n",
       "Cells_Head_CTCTCTGTACTT     0.003284  0.099307  0.000000  0.025072\n",
       "Cells_Head_TTGTCTAAAGGC     0.003064  0.071938  0.000000  0.021227\n",
       "Cells_Pharynx_CCTCCCGCCGGC  0.003299  0.117835  0.000000  0.026228"
      ]
     },
     "execution_count": 24,
     "metadata": {},
     "output_type": "execute_result"
    }
   ],
   "source": [
    "influence_neg = kernal_influence.copy()\n",
    "influence_neg[influence_neg > 0] = 0\n",
    "influence_neg = influence_neg.abs()\n",
    "influence_neg = influence_neg.loc[:, influence_neg.sum(0) != 0]\n",
    "influence_neg = influence_neg.loc[anno.loc[influence_neg.index].sort_values([\"Cellcluster\", \"Celltype\"]).index]\n",
    "influence_neg.iloc[:5,:4]"
   ]
  },
  {
   "cell_type": "code",
   "execution_count": 25,
   "id": "divided-folder",
   "metadata": {
    "scrolled": true
   },
   "outputs": [
    {
     "data": {
      "text/plain": [
       "<matplotlib.axes._subplots.AxesSubplot at 0x7f696c435110>"
      ]
     },
     "execution_count": 25,
     "metadata": {},
     "output_type": "execute_result"
    },
    {
     "data": {
      "image/png": "[encoded data removed]",
      "text/plain": [
       "<Figure size 432x288 with 1 Axes>"
      ]
     },
     "metadata": {
      "needs_background": "light"
     },
     "output_type": "display_data"
    }
   ],
   "source": [
    "influence_neg = norm_scale_influe(influence_neg, clip_value=2)\n",
    "sns.distplot(influence_neg.values)"
   ]
  },
  {
   "cell_type": "code",
   "execution_count": 26,
   "id": "vulnerable-physiology",
   "metadata": {
    "scrolled": true
   },
   "outputs": [
    {
     "data": {
      "text/plain": [
       "<Figure size 432x720 with 0 Axes>"
      ]
     },
     "metadata": {},
     "output_type": "display_data"
    }
   ],
   "source": [
    "draw_influ_clustermap(influence_neg, anno, show_fig=False,\n",
    "               save_prefix=prefix, save_dendrogram=True)"
   ]
  },
  {
   "cell_type": "code",
   "execution_count": 27,
   "id": "floating-uncle",
   "metadata": {},
   "outputs": [
    {
     "name": "stdout",
     "output_type": "stream",
     "text": [
      "1.044039058685303 0.0\n"
     ]
    },
    {
     "data": {
      "text/html": [
       "<div>\n",
       "<style scoped>\n",
       "    .dataframe tbody tr th:only-of-type {\n",
       "        vertical-align: middle;\n",
       "    }\n",
       "\n",
       "    .dataframe tbody tr th {\n",
       "        vertical-align: top;\n",
       "    }\n",
       "\n",
       "    .dataframe thead th {\n",
       "        text-align: right;\n",
       "    }\n",
       "</style>\n",
       "<table border=\"1\" class=\"dataframe\">\n",
       "  <thead>\n",
       "    <tr style=\"text-align: right;\">\n",
       "      <th></th>\n",
       "      <th>Motif_0</th>\n",
       "      <th>Motif_1</th>\n",
       "      <th>Motif_2</th>\n",
       "      <th>Motif_3</th>\n",
       "    </tr>\n",
       "    <tr>\n",
       "      <th>Cell</th>\n",
       "      <th></th>\n",
       "      <th></th>\n",
       "      <th></th>\n",
       "      <th></th>\n",
       "    </tr>\n",
       "  </thead>\n",
       "  <tbody>\n",
       "    <tr>\n",
       "      <th>Cells_Head_CTTCATTTGATG</th>\n",
       "      <td>0.0</td>\n",
       "      <td>0.0</td>\n",
       "      <td>1.0</td>\n",
       "      <td>0.0</td>\n",
       "    </tr>\n",
       "    <tr>\n",
       "      <th>Cells_Trunk_ACTTCCCCCGGN</th>\n",
       "      <td>0.0</td>\n",
       "      <td>0.0</td>\n",
       "      <td>0.0</td>\n",
       "      <td>1.0</td>\n",
       "    </tr>\n",
       "    <tr>\n",
       "      <th>Cells_Head_TTGTCTAAAGGC</th>\n",
       "      <td>0.0</td>\n",
       "      <td>0.0</td>\n",
       "      <td>0.0</td>\n",
       "      <td>1.0</td>\n",
       "    </tr>\n",
       "    <tr>\n",
       "      <th>Cells_Pharynx_CCTCCCGCCGGC</th>\n",
       "      <td>0.0</td>\n",
       "      <td>0.0</td>\n",
       "      <td>0.0</td>\n",
       "      <td>0.0</td>\n",
       "    </tr>\n",
       "    <tr>\n",
       "      <th>Cells_Head_TTAGCGTACCTC</th>\n",
       "      <td>0.0</td>\n",
       "      <td>1.0</td>\n",
       "      <td>0.0</td>\n",
       "      <td>0.0</td>\n",
       "    </tr>\n",
       "  </tbody>\n",
       "</table>\n",
       "</div>"
      ],
      "text/plain": [
       "                            Motif_0  Motif_1  Motif_2  Motif_3\n",
       "Cell                                                          \n",
       "Cells_Head_CTTCATTTGATG         0.0      0.0      1.0      0.0\n",
       "Cells_Trunk_ACTTCCCCCGGN        0.0      0.0      0.0      1.0\n",
       "Cells_Head_TTGTCTAAAGGC         0.0      0.0      0.0      1.0\n",
       "Cells_Pharynx_CCTCCCGCCGGC      0.0      0.0      0.0      0.0\n",
       "Cells_Head_TTAGCGTACCTC         0.0      1.0      0.0      0.0"
      ]
     },
     "execution_count": 27,
     "metadata": {},
     "output_type": "execute_result"
    }
   ],
   "source": [
    "bin_influ_neg = binary_influ(influence_neg)\n",
    "bin_influ_neg.iloc[:5,:4]"
   ]
  },
  {
   "cell_type": "code",
   "execution_count": 28,
   "id": "atmospheric-surrey",
   "metadata": {},
   "outputs": [
    {
     "name": "stdout",
     "output_type": "stream",
     "text": [
      "saving dendrogram\n"
     ]
    },
    {
     "data": {
      "text/plain": [
       "<Figure size 432x720 with 0 Axes>"
      ]
     },
     "metadata": {},
     "output_type": "display_data"
    }
   ],
   "source": [
    "draw_influ_clustermap(bin_influ_neg, anno, show_fig=False,\n",
    "               save_prefix= prefix+\"_bin\", \n",
    "               col_cluster=True, cmap='Greys', \n",
    "                save_dendrogram=True)"
   ]
  },
  {
   "cell_type": "code",
   "execution_count": null,
   "id": "unavailable-material",
   "metadata": {},
   "outputs": [],
   "source": []
  },
  {
   "cell_type": "code",
   "execution_count": 29,
   "id": "sound-membership",
   "metadata": {},
   "outputs": [
    {
     "data": {
      "text/html": [
       "<div>\n",
       "<style scoped>\n",
       "    .dataframe tbody tr th:only-of-type {\n",
       "        vertical-align: middle;\n",
       "    }\n",
       "\n",
       "    .dataframe tbody tr th {\n",
       "        vertical-align: top;\n",
       "    }\n",
       "\n",
       "    .dataframe thead th {\n",
       "        text-align: right;\n",
       "    }\n",
       "</style>\n",
       "<table border=\"1\" class=\"dataframe\">\n",
       "  <thead>\n",
       "    <tr style=\"text-align: right;\">\n",
       "      <th></th>\n",
       "      <th>Motif_0</th>\n",
       "      <th>Motif_1</th>\n",
       "      <th>Motif_2</th>\n",
       "      <th>Motif_3</th>\n",
       "    </tr>\n",
       "    <tr>\n",
       "      <th>Celltype</th>\n",
       "      <th></th>\n",
       "      <th></th>\n",
       "      <th></th>\n",
       "      <th></th>\n",
       "    </tr>\n",
       "  </thead>\n",
       "  <tbody>\n",
       "    <tr>\n",
       "      <th>Cathepsin+_cells_C10</th>\n",
       "      <td>-0.665417</td>\n",
       "      <td>0.322480</td>\n",
       "      <td>-0.073033</td>\n",
       "      <td>0.700511</td>\n",
       "    </tr>\n",
       "    <tr>\n",
       "      <th>Cathepsin+_cells_C15</th>\n",
       "      <td>-0.722456</td>\n",
       "      <td>0.133722</td>\n",
       "      <td>0.016380</td>\n",
       "      <td>0.973530</td>\n",
       "    </tr>\n",
       "    <tr>\n",
       "      <th>Cathepsin+_cells_C17</th>\n",
       "      <td>-0.580631</td>\n",
       "      <td>0.474561</td>\n",
       "      <td>-0.260389</td>\n",
       "      <td>0.525803</td>\n",
       "    </tr>\n",
       "    <tr>\n",
       "      <th>Cathepsin+_cells_C28</th>\n",
       "      <td>-0.734104</td>\n",
       "      <td>0.179211</td>\n",
       "      <td>0.188286</td>\n",
       "      <td>0.643710</td>\n",
       "    </tr>\n",
       "    <tr>\n",
       "      <th>Cathepsin+_cells_C31</th>\n",
       "      <td>-0.530957</td>\n",
       "      <td>0.517998</td>\n",
       "      <td>-0.264643</td>\n",
       "      <td>0.514624</td>\n",
       "    </tr>\n",
       "  </tbody>\n",
       "</table>\n",
       "</div>"
      ],
      "text/plain": [
       "                       Motif_0   Motif_1   Motif_2   Motif_3\n",
       "Celltype                                                    \n",
       "Cathepsin+_cells_C10 -0.665417  0.322480 -0.073033  0.700511\n",
       "Cathepsin+_cells_C15 -0.722456  0.133722  0.016380  0.973530\n",
       "Cathepsin+_cells_C17 -0.580631  0.474561 -0.260389  0.525803\n",
       "Cathepsin+_cells_C28 -0.734104  0.179211  0.188286  0.643710\n",
       "Cathepsin+_cells_C31 -0.530957  0.517998 -0.264643  0.514624"
      ]
     },
     "execution_count": 29,
     "metadata": {},
     "output_type": "execute_result"
    }
   ],
   "source": [
    "anno_celltype = anno_color.drop_duplicates([\"Celltype\", \"Cellcluster\"]).set_index(\"Celltype\")\n",
    "influence_neg_celltype = influence_neg.groupby(anno_color.Celltype).mean()\n",
    "influence_neg_celltype.iloc[:5,:4]"
   ]
  },
  {
   "cell_type": "code",
   "execution_count": 30,
   "id": "cardiovascular-happening",
   "metadata": {
    "scrolled": true
   },
   "outputs": [
    {
     "data": {
      "text/plain": [
       "<Figure size 432x720 with 0 Axes>"
      ]
     },
     "metadata": {},
     "output_type": "display_data"
    }
   ],
   "source": [
    "draw_influ_clustermap(influence_neg_celltype, anno_celltype, show_fig=False,\n",
    "               save_prefix= prefix+\"_celltype\", \n",
    "               col_cluster=False, cmap='vlag')"
   ]
  },
  {
   "cell_type": "code",
   "execution_count": 31,
   "id": "beautiful-quebec",
   "metadata": {},
   "outputs": [],
   "source": [
    "melt_influ(influence_neg_celltype).to_csv(prefix+\"_celltype.csv\")"
   ]
  },
  {
   "cell_type": "code",
   "execution_count": 32,
   "id": "pleasant-background",
   "metadata": {},
   "outputs": [
    {
     "name": "stdout",
     "output_type": "stream",
     "text": [
      "1.438775110244751 0.0\n"
     ]
    },
    {
     "data": {
      "text/html": [
       "<div>\n",
       "<style scoped>\n",
       "    .dataframe tbody tr th:only-of-type {\n",
       "        vertical-align: middle;\n",
       "    }\n",
       "\n",
       "    .dataframe tbody tr th {\n",
       "        vertical-align: top;\n",
       "    }\n",
       "\n",
       "    .dataframe thead th {\n",
       "        text-align: right;\n",
       "    }\n",
       "</style>\n",
       "<table border=\"1\" class=\"dataframe\">\n",
       "  <thead>\n",
       "    <tr style=\"text-align: right;\">\n",
       "      <th></th>\n",
       "      <th>Motif_0</th>\n",
       "      <th>Motif_1</th>\n",
       "      <th>Motif_2</th>\n",
       "      <th>Motif_3</th>\n",
       "    </tr>\n",
       "    <tr>\n",
       "      <th>Celltype</th>\n",
       "      <th></th>\n",
       "      <th></th>\n",
       "      <th></th>\n",
       "      <th></th>\n",
       "    </tr>\n",
       "  </thead>\n",
       "  <tbody>\n",
       "    <tr>\n",
       "      <th>Cathepsin+_cells_C10</th>\n",
       "      <td>0.0</td>\n",
       "      <td>0.0</td>\n",
       "      <td>0.0</td>\n",
       "      <td>1.0</td>\n",
       "    </tr>\n",
       "    <tr>\n",
       "      <th>Cathepsin+_cells_C15</th>\n",
       "      <td>0.0</td>\n",
       "      <td>0.0</td>\n",
       "      <td>0.0</td>\n",
       "      <td>1.0</td>\n",
       "    </tr>\n",
       "    <tr>\n",
       "      <th>Cathepsin+_cells_C28</th>\n",
       "      <td>0.0</td>\n",
       "      <td>0.0</td>\n",
       "      <td>1.0</td>\n",
       "      <td>1.0</td>\n",
       "    </tr>\n",
       "    <tr>\n",
       "      <th>Cathepsin+_cells_C39</th>\n",
       "      <td>0.0</td>\n",
       "      <td>0.0</td>\n",
       "      <td>1.0</td>\n",
       "      <td>0.0</td>\n",
       "    </tr>\n",
       "    <tr>\n",
       "      <th>Cathepsin+_cells_C41</th>\n",
       "      <td>0.0</td>\n",
       "      <td>0.0</td>\n",
       "      <td>0.0</td>\n",
       "      <td>0.0</td>\n",
       "    </tr>\n",
       "  </tbody>\n",
       "</table>\n",
       "</div>"
      ],
      "text/plain": [
       "                      Motif_0  Motif_1  Motif_2  Motif_3\n",
       "Celltype                                                \n",
       "Cathepsin+_cells_C10      0.0      0.0      0.0      1.0\n",
       "Cathepsin+_cells_C15      0.0      0.0      0.0      1.0\n",
       "Cathepsin+_cells_C28      0.0      0.0      1.0      1.0\n",
       "Cathepsin+_cells_C39      0.0      0.0      1.0      0.0\n",
       "Cathepsin+_cells_C41      0.0      0.0      0.0      0.0"
      ]
     },
     "execution_count": 32,
     "metadata": {},
     "output_type": "execute_result"
    }
   ],
   "source": [
    "bin_influ_neg_celltype = binary_influ(influence_neg_celltype)\n",
    "bin_influ_neg_celltype.iloc[:5,:4]"
   ]
  },
  {
   "cell_type": "code",
   "execution_count": 33,
   "id": "republican-custody",
   "metadata": {},
   "outputs": [
    {
     "name": "stdout",
     "output_type": "stream",
     "text": [
      "saving dendrogram\n"
     ]
    },
    {
     "data": {
      "text/plain": [
       "<Figure size 432x720 with 0 Axes>"
      ]
     },
     "metadata": {},
     "output_type": "display_data"
    }
   ],
   "source": [
    "draw_influ_clustermap(bin_influ_neg_celltype, anno_celltype, show_fig=False,\n",
    "               save_prefix= prefix+\"_celltype_bin\", \n",
    "               col_cluster=True, cmap='Greys', \n",
    "                save_dendrogram=True)"
   ]
  },
  {
   "cell_type": "code",
   "execution_count": null,
   "id": "modified-persian",
   "metadata": {},
   "outputs": [],
   "source": []
  },
  {
   "cell_type": "code",
   "execution_count": 34,
   "id": "close-finland",
   "metadata": {},
   "outputs": [
    {
     "data": {
      "text/html": [
       "<div>\n",
       "<style scoped>\n",
       "    .dataframe tbody tr th:only-of-type {\n",
       "        vertical-align: middle;\n",
       "    }\n",
       "\n",
       "    .dataframe tbody tr th {\n",
       "        vertical-align: top;\n",
       "    }\n",
       "\n",
       "    .dataframe thead th {\n",
       "        text-align: right;\n",
       "    }\n",
       "</style>\n",
       "<table border=\"1\" class=\"dataframe\">\n",
       "  <thead>\n",
       "    <tr style=\"text-align: right;\">\n",
       "      <th></th>\n",
       "      <th>Motif_0</th>\n",
       "      <th>Motif_1</th>\n",
       "      <th>Motif_2</th>\n",
       "      <th>Motif_3</th>\n",
       "    </tr>\n",
       "    <tr>\n",
       "      <th>Cellcluster</th>\n",
       "      <th></th>\n",
       "      <th></th>\n",
       "      <th></th>\n",
       "      <th></th>\n",
       "    </tr>\n",
       "  </thead>\n",
       "  <tbody>\n",
       "    <tr>\n",
       "      <th>Cathepsin</th>\n",
       "      <td>-0.524164</td>\n",
       "      <td>0.260646</td>\n",
       "      <td>-0.126058</td>\n",
       "      <td>0.518526</td>\n",
       "    </tr>\n",
       "    <tr>\n",
       "      <th>Epithelial</th>\n",
       "      <td>0.201600</td>\n",
       "      <td>-0.112956</td>\n",
       "      <td>-0.074173</td>\n",
       "      <td>-0.142495</td>\n",
       "    </tr>\n",
       "    <tr>\n",
       "      <th>Intestine</th>\n",
       "      <td>-0.330688</td>\n",
       "      <td>0.507845</td>\n",
       "      <td>-0.229258</td>\n",
       "      <td>0.266725</td>\n",
       "    </tr>\n",
       "    <tr>\n",
       "      <th>Muscle</th>\n",
       "      <td>0.890020</td>\n",
       "      <td>-0.598500</td>\n",
       "      <td>-0.155609</td>\n",
       "      <td>-0.805982</td>\n",
       "    </tr>\n",
       "    <tr>\n",
       "      <th>Neoblast</th>\n",
       "      <td>-0.125444</td>\n",
       "      <td>-0.092837</td>\n",
       "      <td>0.091116</td>\n",
       "      <td>0.486244</td>\n",
       "    </tr>\n",
       "  </tbody>\n",
       "</table>\n",
       "</div>"
      ],
      "text/plain": [
       "              Motif_0   Motif_1   Motif_2   Motif_3\n",
       "Cellcluster                                        \n",
       "Cathepsin   -0.524164  0.260646 -0.126058  0.518526\n",
       "Epithelial   0.201600 -0.112956 -0.074173 -0.142495\n",
       "Intestine   -0.330688  0.507845 -0.229258  0.266725\n",
       "Muscle       0.890020 -0.598500 -0.155609 -0.805982\n",
       "Neoblast    -0.125444 -0.092837  0.091116  0.486244"
      ]
     },
     "execution_count": 34,
     "metadata": {},
     "output_type": "execute_result"
    }
   ],
   "source": [
    "anno_cluster = anno_color.drop_duplicates([\"Cellcluster\"])\n",
    "anno_cluster.index = anno_cluster.Cellcluster\n",
    "\n",
    "influence_neg_cluster = influence_neg.groupby(anno_color.Cellcluster).mean()\n",
    "influence_neg_cluster.iloc[:5,:4]"
   ]
  },
  {
   "cell_type": "code",
   "execution_count": 35,
   "id": "duplicate-decade",
   "metadata": {
    "scrolled": true
   },
   "outputs": [
    {
     "name": "stderr",
     "output_type": "stream",
     "text": [
      "/home/ggj/anaconda3/envs/sc/lib/python3.7/site-packages/ipykernel_launcher.py:14: SettingWithCopyWarning: \n",
      "A value is trying to be set on a copy of a slice from a DataFrame.\n",
      "Try using .loc[row_indexer,col_indexer] = value instead\n",
      "\n",
      "See the caveats in the documentation: https://pandas.pydata.org/pandas-docs/stable/user_guide/indexing.html#returning-a-view-versus-a-copy\n",
      "  \n"
     ]
    },
    {
     "data": {
      "text/plain": [
       "<Figure size 432x720 with 0 Axes>"
      ]
     },
     "metadata": {},
     "output_type": "display_data"
    }
   ],
   "source": [
    "draw_influ_clustermap(influence_neg_cluster, anno_cluster, show_fig=False,\n",
    "               save_prefix= prefix+\"_cluster\", \n",
    "               col_cluster=True, cmap='vlag')"
   ]
  },
  {
   "cell_type": "code",
   "execution_count": null,
   "id": "threaded-headline",
   "metadata": {},
   "outputs": [],
   "source": []
  },
  {
   "cell_type": "code",
   "execution_count": null,
   "id": "legendary-monster",
   "metadata": {},
   "outputs": [],
   "source": []
  },
  {
   "cell_type": "code",
   "execution_count": 36,
   "id": "stone-mechanics",
   "metadata": {
    "scrolled": true
   },
   "outputs": [
    {
     "data": {
      "text/html": [
       "<div>\n",
       "<style scoped>\n",
       "    .dataframe tbody tr th:only-of-type {\n",
       "        vertical-align: middle;\n",
       "    }\n",
       "\n",
       "    .dataframe tbody tr th {\n",
       "        vertical-align: top;\n",
       "    }\n",
       "\n",
       "    .dataframe thead th {\n",
       "        text-align: right;\n",
       "    }\n",
       "</style>\n",
       "<table border=\"1\" class=\"dataframe\">\n",
       "  <thead>\n",
       "    <tr style=\"text-align: right;\">\n",
       "      <th></th>\n",
       "      <th>(0, 1)</th>\n",
       "      <th>(0, 2)</th>\n",
       "      <th>(0, 3)</th>\n",
       "      <th>(0, 4)</th>\n",
       "    </tr>\n",
       "    <tr>\n",
       "      <th>Cell</th>\n",
       "      <th></th>\n",
       "      <th></th>\n",
       "      <th></th>\n",
       "      <th></th>\n",
       "    </tr>\n",
       "  </thead>\n",
       "  <tbody>\n",
       "    <tr>\n",
       "      <th>Cells_Trunk_TCGCTAGACCCT</th>\n",
       "      <td>-0.176780</td>\n",
       "      <td>0.019246</td>\n",
       "      <td>-0.043028</td>\n",
       "      <td>-0.016193</td>\n",
       "    </tr>\n",
       "    <tr>\n",
       "      <th>Cells_Trunk_GCCATAGCATTC</th>\n",
       "      <td>-0.142830</td>\n",
       "      <td>-0.014283</td>\n",
       "      <td>-0.034984</td>\n",
       "      <td>-0.069741</td>\n",
       "    </tr>\n",
       "    <tr>\n",
       "      <th>Cells_Tail_GCACCAAAATGA</th>\n",
       "      <td>-0.115517</td>\n",
       "      <td>-0.016993</td>\n",
       "      <td>-0.026804</td>\n",
       "      <td>-0.067579</td>\n",
       "    </tr>\n",
       "    <tr>\n",
       "      <th>Cells_Trunk_GACCTTGCATTA</th>\n",
       "      <td>-0.185372</td>\n",
       "      <td>0.020142</td>\n",
       "      <td>-0.043253</td>\n",
       "      <td>-0.020976</td>\n",
       "    </tr>\n",
       "    <tr>\n",
       "      <th>Cells_Tail_ATAAGATTACAA</th>\n",
       "      <td>-0.143834</td>\n",
       "      <td>0.019777</td>\n",
       "      <td>-0.030178</td>\n",
       "      <td>-0.011213</td>\n",
       "    </tr>\n",
       "  </tbody>\n",
       "</table>\n",
       "</div>"
      ],
      "text/plain": [
       "                            (0, 1)    (0, 2)    (0, 3)    (0, 4)\n",
       "Cell                                                            \n",
       "Cells_Trunk_TCGCTAGACCCT -0.176780  0.019246 -0.043028 -0.016193\n",
       "Cells_Trunk_GCCATAGCATTC -0.142830 -0.014283 -0.034984 -0.069741\n",
       "Cells_Tail_GCACCAAAATGA  -0.115517 -0.016993 -0.026804 -0.067579\n",
       "Cells_Trunk_GACCTTGCATTA -0.185372  0.020142 -0.043253 -0.020976\n",
       "Cells_Tail_ATAAGATTACAA  -0.143834  0.019777 -0.030178 -0.011213"
      ]
     },
     "execution_count": 36,
     "metadata": {},
     "output_type": "execute_result"
    }
   ],
   "source": [
    "comb_influe = 1 - pd.read_pickle(\"./influence_layer1_combination.p\", compression='xz').T.astype(float)[sel]\n",
    "comb_influe = comb_influe.loc[sample_mask]\n",
    "comb_influe.iloc[:5,:4]"
   ]
  },
  {
   "cell_type": "markdown",
   "id": "solid-basis",
   "metadata": {},
   "source": [
    "# combination.positive.influence"
   ]
  },
  {
   "cell_type": "code",
   "execution_count": 37,
   "id": "under-drink",
   "metadata": {},
   "outputs": [],
   "source": [
    "prefix = \"./Influence/comb_positive_influence\""
   ]
  },
  {
   "cell_type": "code",
   "execution_count": 38,
   "id": "diverse-iceland",
   "metadata": {},
   "outputs": [
    {
     "data": {
      "text/html": [
       "<div>\n",
       "<style scoped>\n",
       "    .dataframe tbody tr th:only-of-type {\n",
       "        vertical-align: middle;\n",
       "    }\n",
       "\n",
       "    .dataframe tbody tr th {\n",
       "        vertical-align: top;\n",
       "    }\n",
       "\n",
       "    .dataframe thead th {\n",
       "        text-align: right;\n",
       "    }\n",
       "</style>\n",
       "<table border=\"1\" class=\"dataframe\">\n",
       "  <thead>\n",
       "    <tr style=\"text-align: right;\">\n",
       "      <th></th>\n",
       "      <th>(0, 2)</th>\n",
       "      <th>(0, 4)</th>\n",
       "      <th>(0, 8)</th>\n",
       "      <th>(0, 10)</th>\n",
       "    </tr>\n",
       "    <tr>\n",
       "      <th>Cell</th>\n",
       "      <th></th>\n",
       "      <th></th>\n",
       "      <th></th>\n",
       "      <th></th>\n",
       "    </tr>\n",
       "  </thead>\n",
       "  <tbody>\n",
       "    <tr>\n",
       "      <th>Cells_Head_CTTCATTTGATG</th>\n",
       "      <td>0.015740</td>\n",
       "      <td>0.0</td>\n",
       "      <td>0.0</td>\n",
       "      <td>0.011586</td>\n",
       "    </tr>\n",
       "    <tr>\n",
       "      <th>Cells_Trunk_ACTTCCCCCGGN</th>\n",
       "      <td>0.024397</td>\n",
       "      <td>0.0</td>\n",
       "      <td>0.0</td>\n",
       "      <td>0.022943</td>\n",
       "    </tr>\n",
       "    <tr>\n",
       "      <th>Cells_Head_CTCTCTGTACTT</th>\n",
       "      <td>0.020040</td>\n",
       "      <td>0.0</td>\n",
       "      <td>0.0</td>\n",
       "      <td>0.017322</td>\n",
       "    </tr>\n",
       "    <tr>\n",
       "      <th>Cells_Head_TTGTCTAAAGGC</th>\n",
       "      <td>0.018384</td>\n",
       "      <td>0.0</td>\n",
       "      <td>0.0</td>\n",
       "      <td>0.018091</td>\n",
       "    </tr>\n",
       "    <tr>\n",
       "      <th>Cells_Pharynx_CCTCCCGCCGGC</th>\n",
       "      <td>0.021543</td>\n",
       "      <td>0.0</td>\n",
       "      <td>0.0</td>\n",
       "      <td>0.017666</td>\n",
       "    </tr>\n",
       "  </tbody>\n",
       "</table>\n",
       "</div>"
      ],
      "text/plain": [
       "                              (0, 2)  (0, 4)  (0, 8)   (0, 10)\n",
       "Cell                                                          \n",
       "Cells_Head_CTTCATTTGATG     0.015740     0.0     0.0  0.011586\n",
       "Cells_Trunk_ACTTCCCCCGGN    0.024397     0.0     0.0  0.022943\n",
       "Cells_Head_CTCTCTGTACTT     0.020040     0.0     0.0  0.017322\n",
       "Cells_Head_TTGTCTAAAGGC     0.018384     0.0     0.0  0.018091\n",
       "Cells_Pharynx_CCTCCCGCCGGC  0.021543     0.0     0.0  0.017666"
      ]
     },
     "execution_count": 38,
     "metadata": {},
     "output_type": "execute_result"
    }
   ],
   "source": [
    "comb_influe_pos = comb_influe.copy()\n",
    "comb_influe_pos[comb_influe_pos < 0] = 0\n",
    "comb_influe_pos = comb_influe_pos.loc[:,comb_influe_pos.sum(0)!=0]\n",
    "comb_influe_pos = comb_influe_pos.loc[anno.loc[comb_influe_pos.index].sort_values([\"Cellcluster\", \"Celltype\"]).index]\n",
    "comb_influe_pos.iloc[:5,:4]"
   ]
  },
  {
   "cell_type": "code",
   "execution_count": null,
   "id": "leading-sociology",
   "metadata": {},
   "outputs": [],
   "source": []
  },
  {
   "cell_type": "code",
   "execution_count": 39,
   "id": "acceptable-diary",
   "metadata": {},
   "outputs": [
    {
     "data": {
      "text/plain": [
       "<matplotlib.axes._subplots.AxesSubplot at 0x7f6967384610>"
      ]
     },
     "execution_count": 39,
     "metadata": {},
     "output_type": "execute_result"
    },
    {
     "data": {
      "image/png": "[encoded data removed]",
      "text/plain": [
       "<Figure size 432x288 with 1 Axes>"
      ]
     },
     "metadata": {
      "needs_background": "light"
     },
     "output_type": "display_data"
    }
   ],
   "source": [
    "influence_pos = norm_scale_influe(comb_influe_pos, clip_value=2)\n",
    "sns.distplot(influence_pos.values)"
   ]
  },
  {
   "cell_type": "code",
   "execution_count": 40,
   "id": "resident-loading",
   "metadata": {
    "scrolled": true
   },
   "outputs": [
    {
     "data": {
      "text/plain": [
       "<Figure size 432x720 with 0 Axes>"
      ]
     },
     "metadata": {},
     "output_type": "display_data"
    }
   ],
   "source": [
    "draw_influ_clustermap(influence_pos, anno, show_fig=False,\n",
    "               save_prefix=prefix, save_dendrogram=True)"
   ]
  },
  {
   "cell_type": "code",
   "execution_count": 41,
   "id": "comprehensive-acrobat",
   "metadata": {},
   "outputs": [
    {
     "name": "stdout",
     "output_type": "stream",
     "text": [
      "1.2136603832244874 0.0\n"
     ]
    },
    {
     "data": {
      "text/html": [
       "<div>\n",
       "<style scoped>\n",
       "    .dataframe tbody tr th:only-of-type {\n",
       "        vertical-align: middle;\n",
       "    }\n",
       "\n",
       "    .dataframe tbody tr th {\n",
       "        vertical-align: top;\n",
       "    }\n",
       "\n",
       "    .dataframe thead th {\n",
       "        text-align: right;\n",
       "    }\n",
       "</style>\n",
       "<table border=\"1\" class=\"dataframe\">\n",
       "  <thead>\n",
       "    <tr style=\"text-align: right;\">\n",
       "      <th></th>\n",
       "      <th>(0, 2)</th>\n",
       "      <th>(0, 4)</th>\n",
       "      <th>(0, 8)</th>\n",
       "      <th>(0, 10)</th>\n",
       "    </tr>\n",
       "    <tr>\n",
       "      <th>Cell</th>\n",
       "      <th></th>\n",
       "      <th></th>\n",
       "      <th></th>\n",
       "      <th></th>\n",
       "    </tr>\n",
       "  </thead>\n",
       "  <tbody>\n",
       "    <tr>\n",
       "      <th>Cells_Head_CTTCATTTGATG</th>\n",
       "      <td>0.0</td>\n",
       "      <td>0.0</td>\n",
       "      <td>0.0</td>\n",
       "      <td>0.0</td>\n",
       "    </tr>\n",
       "    <tr>\n",
       "      <th>Cells_Trunk_ACTTCCCCCGGN</th>\n",
       "      <td>0.0</td>\n",
       "      <td>0.0</td>\n",
       "      <td>0.0</td>\n",
       "      <td>0.0</td>\n",
       "    </tr>\n",
       "    <tr>\n",
       "      <th>Cells_Head_CTCTCTGTACTT</th>\n",
       "      <td>0.0</td>\n",
       "      <td>0.0</td>\n",
       "      <td>0.0</td>\n",
       "      <td>0.0</td>\n",
       "    </tr>\n",
       "    <tr>\n",
       "      <th>Cells_Head_TTGTCTAAAGGC</th>\n",
       "      <td>0.0</td>\n",
       "      <td>0.0</td>\n",
       "      <td>0.0</td>\n",
       "      <td>0.0</td>\n",
       "    </tr>\n",
       "    <tr>\n",
       "      <th>Cells_Pharynx_CCTCCCGCCGGC</th>\n",
       "      <td>0.0</td>\n",
       "      <td>0.0</td>\n",
       "      <td>0.0</td>\n",
       "      <td>0.0</td>\n",
       "    </tr>\n",
       "  </tbody>\n",
       "</table>\n",
       "</div>"
      ],
      "text/plain": [
       "                            (0, 2)  (0, 4)  (0, 8)  (0, 10)\n",
       "Cell                                                       \n",
       "Cells_Head_CTTCATTTGATG        0.0     0.0     0.0      0.0\n",
       "Cells_Trunk_ACTTCCCCCGGN       0.0     0.0     0.0      0.0\n",
       "Cells_Head_CTCTCTGTACTT        0.0     0.0     0.0      0.0\n",
       "Cells_Head_TTGTCTAAAGGC        0.0     0.0     0.0      0.0\n",
       "Cells_Pharynx_CCTCCCGCCGGC     0.0     0.0     0.0      0.0"
      ]
     },
     "execution_count": 41,
     "metadata": {},
     "output_type": "execute_result"
    }
   ],
   "source": [
    "bin_influ = binary_influ(influence_pos)\n",
    "bin_influ.iloc[:5,:4]"
   ]
  },
  {
   "cell_type": "code",
   "execution_count": 42,
   "id": "agricultural-mileage",
   "metadata": {},
   "outputs": [
    {
     "name": "stdout",
     "output_type": "stream",
     "text": [
      "saving dendrogram\n"
     ]
    },
    {
     "data": {
      "text/plain": [
       "<Figure size 432x720 with 0 Axes>"
      ]
     },
     "metadata": {},
     "output_type": "display_data"
    }
   ],
   "source": [
    "draw_influ_clustermap(bin_influ, anno, show_fig=False,\n",
    "               save_prefix= prefix+\"_bin\", \n",
    "               col_cluster=True, cmap='Greys', \n",
    "                save_dendrogram=True)"
   ]
  },
  {
   "cell_type": "code",
   "execution_count": null,
   "id": "bright-thanks",
   "metadata": {},
   "outputs": [],
   "source": []
  },
  {
   "cell_type": "code",
   "execution_count": 43,
   "id": "bright-medline",
   "metadata": {},
   "outputs": [
    {
     "data": {
      "text/html": [
       "<div>\n",
       "<style scoped>\n",
       "    .dataframe tbody tr th:only-of-type {\n",
       "        vertical-align: middle;\n",
       "    }\n",
       "\n",
       "    .dataframe tbody tr th {\n",
       "        vertical-align: top;\n",
       "    }\n",
       "\n",
       "    .dataframe thead th {\n",
       "        text-align: right;\n",
       "    }\n",
       "</style>\n",
       "<table border=\"1\" class=\"dataframe\">\n",
       "  <thead>\n",
       "    <tr style=\"text-align: right;\">\n",
       "      <th></th>\n",
       "      <th>(0, 2)</th>\n",
       "      <th>(0, 4)</th>\n",
       "      <th>(0, 8)</th>\n",
       "      <th>(0, 10)</th>\n",
       "    </tr>\n",
       "    <tr>\n",
       "      <th>Celltype</th>\n",
       "      <th></th>\n",
       "      <th></th>\n",
       "      <th></th>\n",
       "      <th></th>\n",
       "    </tr>\n",
       "  </thead>\n",
       "  <tbody>\n",
       "    <tr>\n",
       "      <th>Cathepsin+_cells_C10</th>\n",
       "      <td>0.737532</td>\n",
       "      <td>-0.051714</td>\n",
       "      <td>0.041543</td>\n",
       "      <td>0.689791</td>\n",
       "    </tr>\n",
       "    <tr>\n",
       "      <th>Cathepsin+_cells_C15</th>\n",
       "      <td>0.794479</td>\n",
       "      <td>0.096089</td>\n",
       "      <td>0.179678</td>\n",
       "      <td>0.814196</td>\n",
       "    </tr>\n",
       "    <tr>\n",
       "      <th>Cathepsin+_cells_C17</th>\n",
       "      <td>0.731909</td>\n",
       "      <td>-0.129997</td>\n",
       "      <td>-0.087503</td>\n",
       "      <td>0.655000</td>\n",
       "    </tr>\n",
       "    <tr>\n",
       "      <th>Cathepsin+_cells_C28</th>\n",
       "      <td>0.709063</td>\n",
       "      <td>-0.262024</td>\n",
       "      <td>-0.281109</td>\n",
       "      <td>0.627826</td>\n",
       "    </tr>\n",
       "    <tr>\n",
       "      <th>Cathepsin+_cells_C31</th>\n",
       "      <td>0.612397</td>\n",
       "      <td>-0.259800</td>\n",
       "      <td>-0.227731</td>\n",
       "      <td>0.469884</td>\n",
       "    </tr>\n",
       "  </tbody>\n",
       "</table>\n",
       "</div>"
      ],
      "text/plain": [
       "                        (0, 2)    (0, 4)    (0, 8)   (0, 10)\n",
       "Celltype                                                    \n",
       "Cathepsin+_cells_C10  0.737532 -0.051714  0.041543  0.689791\n",
       "Cathepsin+_cells_C15  0.794479  0.096089  0.179678  0.814196\n",
       "Cathepsin+_cells_C17  0.731909 -0.129997 -0.087503  0.655000\n",
       "Cathepsin+_cells_C28  0.709063 -0.262024 -0.281109  0.627826\n",
       "Cathepsin+_cells_C31  0.612397 -0.259800 -0.227731  0.469884"
      ]
     },
     "execution_count": 43,
     "metadata": {},
     "output_type": "execute_result"
    }
   ],
   "source": [
    "anno_celltype = anno_color.drop_duplicates([\"Celltype\", \"Cellcluster\"]).set_index(\"Celltype\")\n",
    "influ_celltype = influence_pos.groupby(anno_color.Celltype).mean()\n",
    "influ_celltype.iloc[:5,:4]"
   ]
  },
  {
   "cell_type": "code",
   "execution_count": 44,
   "id": "innovative-wages",
   "metadata": {
    "scrolled": true
   },
   "outputs": [
    {
     "data": {
      "text/plain": [
       "<Figure size 432x720 with 0 Axes>"
      ]
     },
     "metadata": {},
     "output_type": "display_data"
    }
   ],
   "source": [
    "draw_influ_clustermap(influ_celltype, anno_celltype, show_fig=False,\n",
    "               save_prefix= prefix+\"_celltype\", \n",
    "               col_cluster=False, cmap='vlag')"
   ]
  },
  {
   "cell_type": "code",
   "execution_count": 45,
   "id": "magnetic-poultry",
   "metadata": {},
   "outputs": [],
   "source": [
    "melt_influ(influ_celltype).to_csv(prefix+\"_celltype.csv\")"
   ]
  },
  {
   "cell_type": "code",
   "execution_count": null,
   "id": "spoken-baptist",
   "metadata": {},
   "outputs": [],
   "source": []
  },
  {
   "cell_type": "code",
   "execution_count": 46,
   "id": "prime-startup",
   "metadata": {},
   "outputs": [
    {
     "name": "stdout",
     "output_type": "stream",
     "text": [
      "1.619410252571106 0.0\n"
     ]
    },
    {
     "data": {
      "text/html": [
       "<div>\n",
       "<style scoped>\n",
       "    .dataframe tbody tr th:only-of-type {\n",
       "        vertical-align: middle;\n",
       "    }\n",
       "\n",
       "    .dataframe tbody tr th {\n",
       "        vertical-align: top;\n",
       "    }\n",
       "\n",
       "    .dataframe thead th {\n",
       "        text-align: right;\n",
       "    }\n",
       "</style>\n",
       "<table border=\"1\" class=\"dataframe\">\n",
       "  <thead>\n",
       "    <tr style=\"text-align: right;\">\n",
       "      <th></th>\n",
       "      <th>(0, 2)</th>\n",
       "      <th>(0, 4)</th>\n",
       "      <th>(0, 8)</th>\n",
       "      <th>(0, 10)</th>\n",
       "    </tr>\n",
       "    <tr>\n",
       "      <th>Celltype</th>\n",
       "      <th></th>\n",
       "      <th></th>\n",
       "      <th></th>\n",
       "      <th></th>\n",
       "    </tr>\n",
       "  </thead>\n",
       "  <tbody>\n",
       "    <tr>\n",
       "      <th>Cathepsin+_cells_C10</th>\n",
       "      <td>0.0</td>\n",
       "      <td>0.0</td>\n",
       "      <td>0.0</td>\n",
       "      <td>0.0</td>\n",
       "    </tr>\n",
       "    <tr>\n",
       "      <th>Cathepsin+_cells_C15</th>\n",
       "      <td>0.0</td>\n",
       "      <td>1.0</td>\n",
       "      <td>1.0</td>\n",
       "      <td>1.0</td>\n",
       "    </tr>\n",
       "    <tr>\n",
       "      <th>Cathepsin+_cells_C17</th>\n",
       "      <td>0.0</td>\n",
       "      <td>0.0</td>\n",
       "      <td>0.0</td>\n",
       "      <td>0.0</td>\n",
       "    </tr>\n",
       "    <tr>\n",
       "      <th>Cathepsin+_cells_C28</th>\n",
       "      <td>0.0</td>\n",
       "      <td>0.0</td>\n",
       "      <td>0.0</td>\n",
       "      <td>0.0</td>\n",
       "    </tr>\n",
       "    <tr>\n",
       "      <th>Cathepsin+_cells_C31</th>\n",
       "      <td>0.0</td>\n",
       "      <td>0.0</td>\n",
       "      <td>0.0</td>\n",
       "      <td>0.0</td>\n",
       "    </tr>\n",
       "  </tbody>\n",
       "</table>\n",
       "</div>"
      ],
      "text/plain": [
       "                      (0, 2)  (0, 4)  (0, 8)  (0, 10)\n",
       "Celltype                                             \n",
       "Cathepsin+_cells_C10     0.0     0.0     0.0      0.0\n",
       "Cathepsin+_cells_C15     0.0     1.0     1.0      1.0\n",
       "Cathepsin+_cells_C17     0.0     0.0     0.0      0.0\n",
       "Cathepsin+_cells_C28     0.0     0.0     0.0      0.0\n",
       "Cathepsin+_cells_C31     0.0     0.0     0.0      0.0"
      ]
     },
     "execution_count": 46,
     "metadata": {},
     "output_type": "execute_result"
    }
   ],
   "source": [
    "bin_influ_celltype = binary_influ(influ_celltype)\n",
    "bin_influ_celltype.iloc[:5,:4]"
   ]
  },
  {
   "cell_type": "code",
   "execution_count": 47,
   "id": "earlier-draft",
   "metadata": {},
   "outputs": [
    {
     "name": "stdout",
     "output_type": "stream",
     "text": [
      "saving dendrogram\n"
     ]
    },
    {
     "data": {
      "text/plain": [
       "<Figure size 432x720 with 0 Axes>"
      ]
     },
     "metadata": {},
     "output_type": "display_data"
    }
   ],
   "source": [
    "draw_influ_clustermap(bin_influ_celltype, anno_celltype, show_fig=False,\n",
    "               save_prefix= prefix+\"_celltype_bin\", \n",
    "               col_cluster=True, cmap='Greys', \n",
    "                save_dendrogram=True)"
   ]
  },
  {
   "cell_type": "code",
   "execution_count": null,
   "id": "strategic-relay",
   "metadata": {},
   "outputs": [],
   "source": []
  },
  {
   "cell_type": "code",
   "execution_count": 48,
   "id": "foreign-isaac",
   "metadata": {},
   "outputs": [
    {
     "data": {
      "text/html": [
       "<div>\n",
       "<style scoped>\n",
       "    .dataframe tbody tr th:only-of-type {\n",
       "        vertical-align: middle;\n",
       "    }\n",
       "\n",
       "    .dataframe tbody tr th {\n",
       "        vertical-align: top;\n",
       "    }\n",
       "\n",
       "    .dataframe thead th {\n",
       "        text-align: right;\n",
       "    }\n",
       "</style>\n",
       "<table border=\"1\" class=\"dataframe\">\n",
       "  <thead>\n",
       "    <tr style=\"text-align: right;\">\n",
       "      <th></th>\n",
       "      <th>(0, 2)</th>\n",
       "      <th>(0, 4)</th>\n",
       "      <th>(0, 8)</th>\n",
       "      <th>(0, 10)</th>\n",
       "    </tr>\n",
       "    <tr>\n",
       "      <th>Cellcluster</th>\n",
       "      <th></th>\n",
       "      <th></th>\n",
       "      <th></th>\n",
       "      <th></th>\n",
       "    </tr>\n",
       "  </thead>\n",
       "  <tbody>\n",
       "    <tr>\n",
       "      <th>Cathepsin</th>\n",
       "      <td>0.496446</td>\n",
       "      <td>-0.097366</td>\n",
       "      <td>-0.045291</td>\n",
       "      <td>0.408701</td>\n",
       "    </tr>\n",
       "    <tr>\n",
       "      <th>Epithelial</th>\n",
       "      <td>-0.458432</td>\n",
       "      <td>-0.260786</td>\n",
       "      <td>-0.278139</td>\n",
       "      <td>-0.614253</td>\n",
       "    </tr>\n",
       "    <tr>\n",
       "      <th>Intestine</th>\n",
       "      <td>0.232950</td>\n",
       "      <td>-0.262024</td>\n",
       "      <td>-0.281109</td>\n",
       "      <td>0.149821</td>\n",
       "    </tr>\n",
       "    <tr>\n",
       "      <th>Muscle</th>\n",
       "      <td>-0.754153</td>\n",
       "      <td>-0.190067</td>\n",
       "      <td>-0.191650</td>\n",
       "      <td>-0.529008</td>\n",
       "    </tr>\n",
       "    <tr>\n",
       "      <th>Neoblast</th>\n",
       "      <td>-0.038979</td>\n",
       "      <td>-0.262024</td>\n",
       "      <td>-0.279135</td>\n",
       "      <td>-0.109556</td>\n",
       "    </tr>\n",
       "  </tbody>\n",
       "</table>\n",
       "</div>"
      ],
      "text/plain": [
       "               (0, 2)    (0, 4)    (0, 8)   (0, 10)\n",
       "Cellcluster                                        \n",
       "Cathepsin    0.496446 -0.097366 -0.045291  0.408701\n",
       "Epithelial  -0.458432 -0.260786 -0.278139 -0.614253\n",
       "Intestine    0.232950 -0.262024 -0.281109  0.149821\n",
       "Muscle      -0.754153 -0.190067 -0.191650 -0.529008\n",
       "Neoblast    -0.038979 -0.262024 -0.279135 -0.109556"
      ]
     },
     "execution_count": 48,
     "metadata": {},
     "output_type": "execute_result"
    }
   ],
   "source": [
    "anno_cluster = anno_color.drop_duplicates([\"Cellcluster\"])\n",
    "anno_cluster.index = anno_cluster.Cellcluster\n",
    "\n",
    "influ_cluster = influence_pos.groupby(anno_color.Cellcluster).mean()\n",
    "influ_cluster.iloc[:5,:4]"
   ]
  },
  {
   "cell_type": "code",
   "execution_count": 49,
   "id": "entire-flash",
   "metadata": {
    "scrolled": true
   },
   "outputs": [
    {
     "name": "stderr",
     "output_type": "stream",
     "text": [
      "/home/ggj/anaconda3/envs/sc/lib/python3.7/site-packages/ipykernel_launcher.py:14: SettingWithCopyWarning: \n",
      "A value is trying to be set on a copy of a slice from a DataFrame.\n",
      "Try using .loc[row_indexer,col_indexer] = value instead\n",
      "\n",
      "See the caveats in the documentation: https://pandas.pydata.org/pandas-docs/stable/user_guide/indexing.html#returning-a-view-versus-a-copy\n",
      "  \n"
     ]
    },
    {
     "data": {
      "text/plain": [
       "<Figure size 432x720 with 0 Axes>"
      ]
     },
     "metadata": {},
     "output_type": "display_data"
    }
   ],
   "source": [
    "draw_influ_clustermap(influ_cluster, anno_cluster, show_fig=False,\n",
    "               save_prefix= prefix+\"_cluster\", \n",
    "               col_cluster=True, cmap='vlag')"
   ]
  },
  {
   "cell_type": "code",
   "execution_count": 50,
   "id": "surface-headset",
   "metadata": {},
   "outputs": [],
   "source": [
    "melt_influ(influ_cluster, Var=\"Cluster\").to_csv(prefix+\"_cluster.csv\")"
   ]
  },
  {
   "cell_type": "code",
   "execution_count": null,
   "id": "little-sally",
   "metadata": {},
   "outputs": [],
   "source": []
  },
  {
   "cell_type": "markdown",
   "id": "cathedral-hawaii",
   "metadata": {},
   "source": [
    "# combination.negative.influence"
   ]
  },
  {
   "cell_type": "code",
   "execution_count": 51,
   "id": "uniform-patrick",
   "metadata": {},
   "outputs": [],
   "source": [
    "prefix = \"./Influence/comb_nagative_influence\""
   ]
  },
  {
   "cell_type": "code",
   "execution_count": 52,
   "id": "proved-keyboard",
   "metadata": {},
   "outputs": [
    {
     "data": {
      "text/html": [
       "<div>\n",
       "<style scoped>\n",
       "    .dataframe tbody tr th:only-of-type {\n",
       "        vertical-align: middle;\n",
       "    }\n",
       "\n",
       "    .dataframe tbody tr th {\n",
       "        vertical-align: top;\n",
       "    }\n",
       "\n",
       "    .dataframe thead th {\n",
       "        text-align: right;\n",
       "    }\n",
       "</style>\n",
       "<table border=\"1\" class=\"dataframe\">\n",
       "  <thead>\n",
       "    <tr style=\"text-align: right;\">\n",
       "      <th></th>\n",
       "      <th>(0, 1)</th>\n",
       "      <th>(0, 2)</th>\n",
       "      <th>(0, 3)</th>\n",
       "      <th>(0, 4)</th>\n",
       "    </tr>\n",
       "    <tr>\n",
       "      <th>Cell</th>\n",
       "      <th></th>\n",
       "      <th></th>\n",
       "      <th></th>\n",
       "      <th></th>\n",
       "    </tr>\n",
       "  </thead>\n",
       "  <tbody>\n",
       "    <tr>\n",
       "      <th>Cells_Head_CTTCATTTGATG</th>\n",
       "      <td>-0.101219</td>\n",
       "      <td>0.015740</td>\n",
       "      <td>-0.020711</td>\n",
       "      <td>-0.004243</td>\n",
       "    </tr>\n",
       "    <tr>\n",
       "      <th>Cells_Trunk_ACTTCCCCCGGN</th>\n",
       "      <td>-0.156950</td>\n",
       "      <td>0.024397</td>\n",
       "      <td>-0.035416</td>\n",
       "      <td>-0.001691</td>\n",
       "    </tr>\n",
       "    <tr>\n",
       "      <th>Cells_Head_CTCTCTGTACTT</th>\n",
       "      <td>-0.131599</td>\n",
       "      <td>0.020040</td>\n",
       "      <td>-0.028567</td>\n",
       "      <td>-0.003737</td>\n",
       "    </tr>\n",
       "    <tr>\n",
       "      <th>Cells_Head_TTGTCTAAAGGC</th>\n",
       "      <td>-0.110391</td>\n",
       "      <td>0.018384</td>\n",
       "      <td>-0.023869</td>\n",
       "      <td>-0.001643</td>\n",
       "    </tr>\n",
       "    <tr>\n",
       "      <th>Cells_Pharynx_CCTCCCGCCGGC</th>\n",
       "      <td>-0.145273</td>\n",
       "      <td>0.021543</td>\n",
       "      <td>-0.032025</td>\n",
       "      <td>-0.004891</td>\n",
       "    </tr>\n",
       "  </tbody>\n",
       "</table>\n",
       "</div>"
      ],
      "text/plain": [
       "                              (0, 1)    (0, 2)    (0, 3)    (0, 4)\n",
       "Cell                                                              \n",
       "Cells_Head_CTTCATTTGATG    -0.101219  0.015740 -0.020711 -0.004243\n",
       "Cells_Trunk_ACTTCCCCCGGN   -0.156950  0.024397 -0.035416 -0.001691\n",
       "Cells_Head_CTCTCTGTACTT    -0.131599  0.020040 -0.028567 -0.003737\n",
       "Cells_Head_TTGTCTAAAGGC    -0.110391  0.018384 -0.023869 -0.001643\n",
       "Cells_Pharynx_CCTCCCGCCGGC -0.145273  0.021543 -0.032025 -0.004891"
      ]
     },
     "execution_count": 52,
     "metadata": {},
     "output_type": "execute_result"
    }
   ],
   "source": [
    "comb_influe_neg = comb_influe.copy()\n",
    "comb_influe_neg[comb_influe_pos < 0] = 0\n",
    "comb_influe_neg = comb_influe_neg.loc[:,comb_influe_neg.sum(0)!=0]\n",
    "comb_influe_neg = comb_influe_neg.loc[anno.loc[comb_influe_neg.index].sort_values([\"Cellcluster\", \"Celltype\"]).index]\n",
    "comb_influe_neg.iloc[:5,:4]"
   ]
  },
  {
   "cell_type": "code",
   "execution_count": 53,
   "id": "differential-stand",
   "metadata": {},
   "outputs": [
    {
     "name": "stdout",
     "output_type": "stream",
     "text": [
      "WARNING: Some cells have total count of genes equal to zero\n"
     ]
    },
    {
     "data": {
      "text/plain": [
       "<matplotlib.axes._subplots.AxesSubplot at 0x7f696c6ef890>"
      ]
     },
     "execution_count": 53,
     "metadata": {},
     "output_type": "execute_result"
    },
    {
     "data": {
      "image/png": "[encoded data removed]",
      "text/plain": [
       "<Figure size 432x288 with 1 Axes>"
      ]
     },
     "metadata": {
      "needs_background": "light"
     },
     "output_type": "display_data"
    }
   ],
   "source": [
    "influence_neg = norm_scale_influe(comb_influe_neg, clip_value=2)\n",
    "sns.distplot(influence_neg.values)"
   ]
  },
  {
   "cell_type": "code",
   "execution_count": 40,
   "id": "understanding-wholesale",
   "metadata": {
    "scrolled": true
   },
   "outputs": [
    {
     "data": {
      "text/plain": [
       "<Figure size 432x720 with 0 Axes>"
      ]
     },
     "metadata": {},
     "output_type": "display_data"
    }
   ],
   "source": [
    "draw_influ_clustermap(influence_neg, anno, show_fig=False,\n",
    "               save_prefix=prefix, save_dendrogram=True)"
   ]
  },
  {
   "cell_type": "code",
   "execution_count": 41,
   "id": "enhanced-sleeve",
   "metadata": {},
   "outputs": [
    {
     "name": "stdout",
     "output_type": "stream",
     "text": [
      "1.2136603832244874 0.0\n"
     ]
    },
    {
     "data": {
      "text/html": [
       "<div>\n",
       "<style scoped>\n",
       "    .dataframe tbody tr th:only-of-type {\n",
       "        vertical-align: middle;\n",
       "    }\n",
       "\n",
       "    .dataframe tbody tr th {\n",
       "        vertical-align: top;\n",
       "    }\n",
       "\n",
       "    .dataframe thead th {\n",
       "        text-align: right;\n",
       "    }\n",
       "</style>\n",
       "<table border=\"1\" class=\"dataframe\">\n",
       "  <thead>\n",
       "    <tr style=\"text-align: right;\">\n",
       "      <th></th>\n",
       "      <th>(0, 2)</th>\n",
       "      <th>(0, 4)</th>\n",
       "      <th>(0, 8)</th>\n",
       "      <th>(0, 10)</th>\n",
       "    </tr>\n",
       "    <tr>\n",
       "      <th>Cell</th>\n",
       "      <th></th>\n",
       "      <th></th>\n",
       "      <th></th>\n",
       "      <th></th>\n",
       "    </tr>\n",
       "  </thead>\n",
       "  <tbody>\n",
       "    <tr>\n",
       "      <th>Cells_Head_CTTCATTTGATG</th>\n",
       "      <td>0.0</td>\n",
       "      <td>0.0</td>\n",
       "      <td>0.0</td>\n",
       "      <td>0.0</td>\n",
       "    </tr>\n",
       "    <tr>\n",
       "      <th>Cells_Trunk_ACTTCCCCCGGN</th>\n",
       "      <td>0.0</td>\n",
       "      <td>0.0</td>\n",
       "      <td>0.0</td>\n",
       "      <td>0.0</td>\n",
       "    </tr>\n",
       "    <tr>\n",
       "      <th>Cells_Head_CTCTCTGTACTT</th>\n",
       "      <td>0.0</td>\n",
       "      <td>0.0</td>\n",
       "      <td>0.0</td>\n",
       "      <td>0.0</td>\n",
       "    </tr>\n",
       "    <tr>\n",
       "      <th>Cells_Head_TTGTCTAAAGGC</th>\n",
       "      <td>0.0</td>\n",
       "      <td>0.0</td>\n",
       "      <td>0.0</td>\n",
       "      <td>0.0</td>\n",
       "    </tr>\n",
       "    <tr>\n",
       "      <th>Cells_Pharynx_CCTCCCGCCGGC</th>\n",
       "      <td>0.0</td>\n",
       "      <td>0.0</td>\n",
       "      <td>0.0</td>\n",
       "      <td>0.0</td>\n",
       "    </tr>\n",
       "  </tbody>\n",
       "</table>\n",
       "</div>"
      ],
      "text/plain": [
       "                            (0, 2)  (0, 4)  (0, 8)  (0, 10)\n",
       "Cell                                                       \n",
       "Cells_Head_CTTCATTTGATG        0.0     0.0     0.0      0.0\n",
       "Cells_Trunk_ACTTCCCCCGGN       0.0     0.0     0.0      0.0\n",
       "Cells_Head_CTCTCTGTACTT        0.0     0.0     0.0      0.0\n",
       "Cells_Head_TTGTCTAAAGGC        0.0     0.0     0.0      0.0\n",
       "Cells_Pharynx_CCTCCCGCCGGC     0.0     0.0     0.0      0.0"
      ]
     },
     "execution_count": 41,
     "metadata": {},
     "output_type": "execute_result"
    }
   ],
   "source": [
    "bin_influ = binary_influ(influence_neg)\n",
    "bin_influ.iloc[:5,:4]"
   ]
  },
  {
   "cell_type": "code",
   "execution_count": 42,
   "id": "economic-duncan",
   "metadata": {},
   "outputs": [
    {
     "name": "stdout",
     "output_type": "stream",
     "text": [
      "saving dendrogram\n"
     ]
    },
    {
     "data": {
      "text/plain": [
       "<Figure size 432x720 with 0 Axes>"
      ]
     },
     "metadata": {},
     "output_type": "display_data"
    }
   ],
   "source": [
    "draw_influ_clustermap(bin_influ, anno, show_fig=False,\n",
    "               save_prefix= prefix+\"_bin\", \n",
    "               col_cluster=True, cmap='Greys', \n",
    "                save_dendrogram=True)"
   ]
  },
  {
   "cell_type": "code",
   "execution_count": null,
   "id": "premium-layer",
   "metadata": {},
   "outputs": [],
   "source": []
  },
  {
   "cell_type": "code",
   "execution_count": 54,
   "id": "collect-trash",
   "metadata": {},
   "outputs": [
    {
     "data": {
      "text/html": [
       "<div>\n",
       "<style scoped>\n",
       "    .dataframe tbody tr th:only-of-type {\n",
       "        vertical-align: middle;\n",
       "    }\n",
       "\n",
       "    .dataframe tbody tr th {\n",
       "        vertical-align: top;\n",
       "    }\n",
       "\n",
       "    .dataframe thead th {\n",
       "        text-align: right;\n",
       "    }\n",
       "</style>\n",
       "<table border=\"1\" class=\"dataframe\">\n",
       "  <thead>\n",
       "    <tr style=\"text-align: right;\">\n",
       "      <th></th>\n",
       "      <th>(0, 1)</th>\n",
       "      <th>(0, 2)</th>\n",
       "      <th>(0, 3)</th>\n",
       "      <th>(0, 4)</th>\n",
       "    </tr>\n",
       "    <tr>\n",
       "      <th>Celltype</th>\n",
       "      <th></th>\n",
       "      <th></th>\n",
       "      <th></th>\n",
       "      <th></th>\n",
       "    </tr>\n",
       "  </thead>\n",
       "  <tbody>\n",
       "    <tr>\n",
       "      <th>Cathepsin+_cells_C10</th>\n",
       "      <td>0.724112</td>\n",
       "      <td>-0.824260</td>\n",
       "      <td>0.792711</td>\n",
       "      <td>-0.800578</td>\n",
       "    </tr>\n",
       "    <tr>\n",
       "      <th>Cathepsin+_cells_C15</th>\n",
       "      <td>0.689164</td>\n",
       "      <td>-0.837068</td>\n",
       "      <td>0.821389</td>\n",
       "      <td>-0.834451</td>\n",
       "    </tr>\n",
       "    <tr>\n",
       "      <th>Cathepsin+_cells_C17</th>\n",
       "      <td>0.850946</td>\n",
       "      <td>-0.855749</td>\n",
       "      <td>0.705626</td>\n",
       "      <td>-0.806117</td>\n",
       "    </tr>\n",
       "    <tr>\n",
       "      <th>Cathepsin+_cells_C28</th>\n",
       "      <td>0.960708</td>\n",
       "      <td>-0.882368</td>\n",
       "      <td>0.767951</td>\n",
       "      <td>-0.805436</td>\n",
       "    </tr>\n",
       "    <tr>\n",
       "      <th>Cathepsin+_cells_C31</th>\n",
       "      <td>1.045830</td>\n",
       "      <td>-0.858535</td>\n",
       "      <td>0.771061</td>\n",
       "      <td>-0.691212</td>\n",
       "    </tr>\n",
       "  </tbody>\n",
       "</table>\n",
       "</div>"
      ],
      "text/plain": [
       "                        (0, 1)    (0, 2)    (0, 3)    (0, 4)\n",
       "Celltype                                                    \n",
       "Cathepsin+_cells_C10  0.724112 -0.824260  0.792711 -0.800578\n",
       "Cathepsin+_cells_C15  0.689164 -0.837068  0.821389 -0.834451\n",
       "Cathepsin+_cells_C17  0.850946 -0.855749  0.705626 -0.806117\n",
       "Cathepsin+_cells_C28  0.960708 -0.882368  0.767951 -0.805436\n",
       "Cathepsin+_cells_C31  1.045830 -0.858535  0.771061 -0.691212"
      ]
     },
     "execution_count": 54,
     "metadata": {},
     "output_type": "execute_result"
    }
   ],
   "source": [
    "anno_celltype = anno_color.drop_duplicates([\"Celltype\", \"Cellcluster\"]).set_index(\"Celltype\")\n",
    "influ_celltype = influence_neg.groupby(anno_color.Celltype).mean()\n",
    "influ_celltype.iloc[:5,:4]"
   ]
  },
  {
   "cell_type": "code",
   "execution_count": 55,
   "id": "earlier-recycling",
   "metadata": {
    "scrolled": true
   },
   "outputs": [
    {
     "data": {
      "text/plain": [
       "<Figure size 432x720 with 0 Axes>"
      ]
     },
     "metadata": {},
     "output_type": "display_data"
    }
   ],
   "source": [
    "draw_influ_clustermap(influ_celltype, anno_celltype, show_fig=False,\n",
    "               save_prefix= prefix+\"_celltype\", \n",
    "               col_cluster=False, cmap='vlag')"
   ]
  },
  {
   "cell_type": "code",
   "execution_count": 56,
   "id": "grave-corps",
   "metadata": {},
   "outputs": [],
   "source": [
    "melt_influ(influ_celltype).to_csv(prefix+\"_celltype.csv\")"
   ]
  },
  {
   "cell_type": "code",
   "execution_count": null,
   "id": "challenging-friendship",
   "metadata": {},
   "outputs": [],
   "source": []
  },
  {
   "cell_type": "code",
   "execution_count": 57,
   "id": "israeli-parcel",
   "metadata": {},
   "outputs": [
    {
     "name": "stdout",
     "output_type": "stream",
     "text": [
      "1.4774232864379893 0.14698199033737183\n"
     ]
    },
    {
     "data": {
      "text/html": [
       "<div>\n",
       "<style scoped>\n",
       "    .dataframe tbody tr th:only-of-type {\n",
       "        vertical-align: middle;\n",
       "    }\n",
       "\n",
       "    .dataframe tbody tr th {\n",
       "        vertical-align: top;\n",
       "    }\n",
       "\n",
       "    .dataframe thead th {\n",
       "        text-align: right;\n",
       "    }\n",
       "</style>\n",
       "<table border=\"1\" class=\"dataframe\">\n",
       "  <thead>\n",
       "    <tr style=\"text-align: right;\">\n",
       "      <th></th>\n",
       "      <th>(0, 1)</th>\n",
       "      <th>(0, 2)</th>\n",
       "      <th>(0, 3)</th>\n",
       "      <th>(0, 4)</th>\n",
       "    </tr>\n",
       "    <tr>\n",
       "      <th>Celltype</th>\n",
       "      <th></th>\n",
       "      <th></th>\n",
       "      <th></th>\n",
       "      <th></th>\n",
       "    </tr>\n",
       "  </thead>\n",
       "  <tbody>\n",
       "    <tr>\n",
       "      <th>Cathepsin+_cells_C10</th>\n",
       "      <td>1.0</td>\n",
       "      <td>0.0</td>\n",
       "      <td>1.0</td>\n",
       "      <td>0.0</td>\n",
       "    </tr>\n",
       "    <tr>\n",
       "      <th>Cathepsin+_cells_C15</th>\n",
       "      <td>1.0</td>\n",
       "      <td>0.0</td>\n",
       "      <td>1.0</td>\n",
       "      <td>0.0</td>\n",
       "    </tr>\n",
       "    <tr>\n",
       "      <th>Cathepsin+_cells_C17</th>\n",
       "      <td>1.0</td>\n",
       "      <td>0.0</td>\n",
       "      <td>0.0</td>\n",
       "      <td>0.0</td>\n",
       "    </tr>\n",
       "    <tr>\n",
       "      <th>Cathepsin+_cells_C28</th>\n",
       "      <td>1.0</td>\n",
       "      <td>0.0</td>\n",
       "      <td>0.0</td>\n",
       "      <td>0.0</td>\n",
       "    </tr>\n",
       "    <tr>\n",
       "      <th>Cathepsin+_cells_C31</th>\n",
       "      <td>1.0</td>\n",
       "      <td>0.0</td>\n",
       "      <td>1.0</td>\n",
       "      <td>0.0</td>\n",
       "    </tr>\n",
       "  </tbody>\n",
       "</table>\n",
       "</div>"
      ],
      "text/plain": [
       "                      (0, 1)  (0, 2)  (0, 3)  (0, 4)\n",
       "Celltype                                            \n",
       "Cathepsin+_cells_C10     1.0     0.0     1.0     0.0\n",
       "Cathepsin+_cells_C15     1.0     0.0     1.0     0.0\n",
       "Cathepsin+_cells_C17     1.0     0.0     0.0     0.0\n",
       "Cathepsin+_cells_C28     1.0     0.0     0.0     0.0\n",
       "Cathepsin+_cells_C31     1.0     0.0     1.0     0.0"
      ]
     },
     "execution_count": 57,
     "metadata": {},
     "output_type": "execute_result"
    }
   ],
   "source": [
    "# bin_influ_celltype = binary_influ(influ_celltype)\n",
    "# bin_influ_celltype.iloc[:5,:4]"
   ]
  },
  {
   "cell_type": "code",
   "execution_count": 59,
   "id": "conceptual-fitting",
   "metadata": {},
   "outputs": [],
   "source": [
    "# draw_influ_clustermap(bin_influ_celltype, anno_celltype, show_fig=False,\n",
    "#                save_prefix= prefix+\"_celltype_bin\", \n",
    "#                col_cluster=True, cmap='Greys', \n",
    "#                 save_dendrogram=True)"
   ]
  },
  {
   "cell_type": "code",
   "execution_count": null,
   "id": "thousand-retailer",
   "metadata": {},
   "outputs": [],
   "source": []
  },
  {
   "cell_type": "code",
   "execution_count": 60,
   "id": "premium-redhead",
   "metadata": {},
   "outputs": [
    {
     "data": {
      "text/html": [
       "<div>\n",
       "<style scoped>\n",
       "    .dataframe tbody tr th:only-of-type {\n",
       "        vertical-align: middle;\n",
       "    }\n",
       "\n",
       "    .dataframe tbody tr th {\n",
       "        vertical-align: top;\n",
       "    }\n",
       "\n",
       "    .dataframe thead th {\n",
       "        text-align: right;\n",
       "    }\n",
       "</style>\n",
       "<table border=\"1\" class=\"dataframe\">\n",
       "  <thead>\n",
       "    <tr style=\"text-align: right;\">\n",
       "      <th></th>\n",
       "      <th>(0, 1)</th>\n",
       "      <th>(0, 2)</th>\n",
       "      <th>(0, 3)</th>\n",
       "      <th>(0, 4)</th>\n",
       "    </tr>\n",
       "    <tr>\n",
       "      <th>Cellcluster</th>\n",
       "      <th></th>\n",
       "      <th></th>\n",
       "      <th></th>\n",
       "      <th></th>\n",
       "    </tr>\n",
       "  </thead>\n",
       "  <tbody>\n",
       "    <tr>\n",
       "      <th>Cathepsin</th>\n",
       "      <td>0.690196</td>\n",
       "      <td>-0.666508</td>\n",
       "      <td>0.439839</td>\n",
       "      <td>-0.594720</td>\n",
       "    </tr>\n",
       "    <tr>\n",
       "      <th>Epithelial</th>\n",
       "      <td>-0.217136</td>\n",
       "      <td>0.262136</td>\n",
       "      <td>-0.267226</td>\n",
       "      <td>0.254784</td>\n",
       "    </tr>\n",
       "    <tr>\n",
       "      <th>Intestine</th>\n",
       "      <td>-0.136051</td>\n",
       "      <td>-0.205211</td>\n",
       "      <td>0.447054</td>\n",
       "      <td>-0.285471</td>\n",
       "    </tr>\n",
       "    <tr>\n",
       "      <th>Muscle</th>\n",
       "      <td>-0.622279</td>\n",
       "      <td>0.828677</td>\n",
       "      <td>-0.625200</td>\n",
       "      <td>0.794665</td>\n",
       "    </tr>\n",
       "    <tr>\n",
       "      <th>Neoblast</th>\n",
       "      <td>0.142983</td>\n",
       "      <td>-0.076228</td>\n",
       "      <td>0.461859</td>\n",
       "      <td>-0.073398</td>\n",
       "    </tr>\n",
       "  </tbody>\n",
       "</table>\n",
       "</div>"
      ],
      "text/plain": [
       "               (0, 1)    (0, 2)    (0, 3)    (0, 4)\n",
       "Cellcluster                                        \n",
       "Cathepsin    0.690196 -0.666508  0.439839 -0.594720\n",
       "Epithelial  -0.217136  0.262136 -0.267226  0.254784\n",
       "Intestine   -0.136051 -0.205211  0.447054 -0.285471\n",
       "Muscle      -0.622279  0.828677 -0.625200  0.794665\n",
       "Neoblast     0.142983 -0.076228  0.461859 -0.073398"
      ]
     },
     "execution_count": 60,
     "metadata": {},
     "output_type": "execute_result"
    }
   ],
   "source": [
    "anno_cluster = anno_color.drop_duplicates([\"Cellcluster\"])\n",
    "anno_cluster.index = anno_cluster.Cellcluster\n",
    "\n",
    "influ_cluster = influence_neg.groupby(anno_color.Cellcluster).mean()\n",
    "influ_cluster.iloc[:5,:4]"
   ]
  },
  {
   "cell_type": "code",
   "execution_count": 61,
   "id": "sweet-ivory",
   "metadata": {
    "scrolled": true
   },
   "outputs": [
    {
     "name": "stderr",
     "output_type": "stream",
     "text": [
      "/home/ggj/anaconda3/envs/sc/lib/python3.7/site-packages/ipykernel_launcher.py:14: SettingWithCopyWarning: \n",
      "A value is trying to be set on a copy of a slice from a DataFrame.\n",
      "Try using .loc[row_indexer,col_indexer] = value instead\n",
      "\n",
      "See the caveats in the documentation: https://pandas.pydata.org/pandas-docs/stable/user_guide/indexing.html#returning-a-view-versus-a-copy\n",
      "  \n"
     ]
    },
    {
     "data": {
      "text/plain": [
       "<Figure size 432x720 with 0 Axes>"
      ]
     },
     "metadata": {},
     "output_type": "display_data"
    }
   ],
   "source": [
    "draw_influ_clustermap(influ_cluster, anno_cluster, show_fig=False,\n",
    "               save_prefix= prefix+\"_cluster\", \n",
    "               col_cluster=True, cmap='vlag')"
   ]
  },
  {
   "cell_type": "code",
   "execution_count": 62,
   "id": "close-bolivia",
   "metadata": {},
   "outputs": [],
   "source": [
    "melt_influ(influ_cluster, Var=\"Cluster\").to_csv(prefix+\"_cluster.csv\")"
   ]
  },
  {
   "cell_type": "code",
   "execution_count": null,
   "id": "healthy-cookie",
   "metadata": {},
   "outputs": [],
   "source": []
  }
 ],
 "metadata": {
  "kernelspec": {
   "display_name": "Python [conda env:sc]",
   "language": "python",
   "name": "conda-env-sc-py"
  },
  "language_info": {
   "codemirror_mode": {
    "name": "ipython",
    "version": 3
   },
   "file_extension": ".py",
   "mimetype": "text/x-python",
   "name": "python",
   "nbconvert_exporter": "python",
   "pygments_lexer": "ipython3",
   "version": "3.7.7"
  }
 },
 "nbformat": 4,
 "nbformat_minor": 5
}
