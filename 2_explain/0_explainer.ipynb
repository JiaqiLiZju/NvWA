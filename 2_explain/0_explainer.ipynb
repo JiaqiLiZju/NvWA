{
 "cells": [
  {
   "cell_type": "code",
   "execution_count": 1,
   "metadata": {},
   "outputs": [],
   "source": [
    "import os, time, shutil, logging, random\n",
    "import pickle, h5py\n",
    "import numpy as np\n",
    "import pandas as pd\n",
    "from matplotlib import pyplot as plt\n",
    "\n",
    "import torch\n",
    "from torch import nn\n",
    "from torch.optim import Adam, SGD\n",
    "from torch.utils.data import DataLoader\n",
    "\n",
    "from sklearn.metrics import *\n",
    "from hyperopt import *\n",
    "\n",
    "from utils import *\n",
    "\n",
    "import warnings\n",
    "warnings.filterwarnings(\"ignore\")\n",
    "\n",
    "os.makedirs('./Log', exist_ok=True)\n",
    "os.makedirs('./Figures', exist_ok=True)\n",
    "\n",
    "# set random_seed\n",
    "set_random_seed()\n",
    "set_torch_benchmark()"
   ]
  },
  {
   "cell_type": "code",
   "execution_count": 2,
   "metadata": {},
   "outputs": [],
   "source": [
    "device_id, mode, trails_fname, data, use_data_rc_augment = \"0\", \"test\", \\\n",
    "\"../../nvwa-pse-official/hyper_params_tune/TPE-lr5-epoch10/hyperopt_trails/params.p\", \\\n",
    "\"../../nvwa-pse-official/data/MCA_pseudocell_bin.mouse_noTestis.h5\", \\\n",
    "True"
   ]
  },
  {
   "cell_type": "code",
   "execution_count": 3,
   "metadata": {},
   "outputs": [],
   "source": [
    "logging.basicConfig(level=logging.INFO,\n",
    "                    format='%(asctime)s %(filename)s[line:%(lineno)d] %(levelname)s %(message)s',\n",
    "                    datefmt='%a, %d %b %Y %H:%M:%S',\n",
    "                    filename=time.strftime('./log_HyperBest.' + mode + '.%m%d.%H:%M:%S.txt'),\n",
    "                    filemode='w')\n",
    "\n",
    "## change\n",
    "os.environ[\"CUDA_VISIBLE_DEVICES\"] = device_id\n",
    "\n",
    "use_cuda = True\n",
    "device = torch.device(\"cuda\" if torch.cuda.is_available() and use_cuda else \"cpu\")\n",
    "logging.info(device)\n"
   ]
  },
  {
   "cell_type": "code",
   "execution_count": 4,
   "metadata": {},
   "outputs": [],
   "source": [
    "# unpack datasets\n",
    "species = os.path.basename(data).split('.')[1]\n",
    "logging.info(\"#\"*60)\n",
    "logging.info(\"switching datasets: %s\" % species)\n",
    "\n",
    "# unpack datasets\n",
    "h5file = h5py.File(data, 'r')\n",
    "celltype = h5file[\"celltype\"][:]\n",
    "if mode != \"test\":\n",
    "    x_train = h5file[\"train_data\"][:].astype(np.float32)\n",
    "    y_train_onehot = h5file[\"train_label\"][:].astype(np.float32)\n",
    "    x_val = h5file[\"val_data\"][:].astype(np.float32)\n",
    "    y_val_onehot = h5file[\"val_label\"][:].astype(np.float32)\n",
    "\n",
    "    logging.info(x_train.shape)\n",
    "    logging.info(x_val.shape)\n",
    "\n",
    "    logging.info(y_train_onehot.shape)\n",
    "    logging.info(y_val_onehot.shape)\n",
    "\n",
    "\n",
    "x_test = h5file[\"test_data\"][:].astype(np.float32)\n",
    "y_test_onehot = h5file[\"test_label\"][:].astype(np.float32)\n",
    "test_gene = h5file[\"test_gene\"][:]\n",
    "\n",
    "logging.info(x_test.shape)\n",
    "logging.info(y_test_onehot.shape)\n",
    "\n",
    "h5file.close()\n"
   ]
  },
  {
   "cell_type": "code",
   "execution_count": 5,
   "metadata": {},
   "outputs": [],
   "source": [
    "# trails\n",
    "trials = pickle.load(open(trails_fname, 'rb'))\n",
    "best = trials.argmin\n",
    "# params = space_eval(param_space, best)\n",
    "params = best_params\n",
    "params['is_spatial_transform'] = False\n",
    "logging.info(params)\n"
   ]
  },
  {
   "cell_type": "code",
   "execution_count": 6,
   "metadata": {},
   "outputs": [],
   "source": [
    "# define datasets parameters\n",
    "leftpos = int(params['leftpos'])\n",
    "rightpos = int(params['rightpos'])\n",
    "logging.info((leftpos, rightpos))\n",
    "\n",
    "# define hyperparams\n",
    "output_size = y_test_onehot.shape[-1]\n",
    "params[\"output_size\"] = output_size\n",
    "\n",
    "# define dataset params\n",
    "batch_size = int(params['batchsize'])\n",
    "\n",
    "logging.debug('\\n-----'+'0'+'------\\n')\n",
    "model = get_model(params)\n",
    "model.Embedding.save(fname=\"./Log/embedder_init_params.pth\")\n",
    "logging.debug('\\n-----'+'1'+'-------\\n')\n",
    "logging.info(\"weights inited and embedding weights loaded\")\n",
    "\n",
    "model.to(device)\n",
    "logging.info(model.__str__())"
   ]
  },
  {
   "cell_type": "code",
   "execution_count": 7,
   "metadata": {},
   "outputs": [],
   "source": [
    "lr = 1e-3\n",
    "EPOCH = 500\n",
    "\n",
    "optimizer = Adam(model.parameters(), lr=lr, betas=(0.9, 0.999), eps=1e-08, weight_decay=0,)\n",
    "# lr_scheduler = ReduceLROnPlateau(optimizer, mode='min', patience=100, factor=0.9)\n",
    "criterion = nn.BCELoss().to(device)\n",
    "# criterion = nn.BCEWithLogitsLoss().to(device)\n",
    "trainer = Trainer(model, criterion, optimizer, device)\n",
    "\n",
    "logging.debug('\\n------'+'2'+'-------\\n')\n",
    "logging.info('\\n------'+'train'+'-------\\n')\n"
   ]
  },
  {
   "cell_type": "code",
   "execution_count": 8,
   "metadata": {},
   "outputs": [],
   "source": [
    "# define train_datasets\n",
    "if mode != \"test\":\n",
    "    x_train = x_train[:, :, leftpos:rightpos]\n",
    "    x_val = x_val[:, :, leftpos:rightpos]\n",
    "    logging.info(x_train.shape)\n",
    "    logging.info(x_val.shape)\n",
    "\n",
    "    if use_data_rc_augment:\n",
    "        logging.info(\"using sequence reverse complement augment...\")\n",
    "\n",
    "        x_train, y_train_onehot = seq_rc_augment(x_train, y_train_onehot)\n",
    "        logging.info(x_train.shape)\n",
    "\n",
    "    train_loader = DataLoader(list(zip(x_train, y_train_onehot)), batch_size=batch_size,\n",
    "                                shuffle=True, num_workers=0, drop_last=False)\n",
    "    validate_loader = DataLoader(list(zip(x_val, y_val_onehot)), batch_size=32, \n",
    "                                shuffle=False, num_workers=0, drop_last=False)\n",
    "\n",
    "# test_loader\n",
    "x_test = x_test[:, :, leftpos:rightpos]\n",
    "logging.info(x_test.shape)\n",
    "\n",
    "test_loader = DataLoader(list(zip(x_test, y_test_onehot)), batch_size=32, \n",
    "                            shuffle=False, num_workers=0, drop_last=False)\n",
    "\n"
   ]
  },
  {
   "cell_type": "code",
   "execution_count": 9,
   "metadata": {
    "collapsed": true
   },
   "outputs": [
    {
     "ename": "KeyboardInterrupt",
     "evalue": "",
     "output_type": "error",
     "traceback": [
      "\u001b[0;31m---------------------------------------------------------------------------\u001b[0m",
      "\u001b[0;31mKeyboardInterrupt\u001b[0m                         Traceback (most recent call last)",
      "\u001b[0;32m<ipython-input-9-e76b968461b9>\u001b[0m in \u001b[0;36m<module>\u001b[0;34m\u001b[0m\n\u001b[1;32m     24\u001b[0m \u001b[0;34m\u001b[0m\u001b[0m\n\u001b[1;32m     25\u001b[0m         \u001b[0;31m# train\u001b[0m\u001b[0;34m\u001b[0m\u001b[0;34m\u001b[0m\u001b[0;34m\u001b[0m\u001b[0m\n\u001b[0;32m---> 26\u001b[0;31m         \u001b[0mtrain_loss\u001b[0m \u001b[0;34m=\u001b[0m \u001b[0mtrainer\u001b[0m\u001b[0;34m.\u001b[0m\u001b[0mtrain_per_epoch\u001b[0m\u001b[0;34m(\u001b[0m\u001b[0mtrain_loader\u001b[0m\u001b[0;34m,\u001b[0m \u001b[0mepoch\u001b[0m\u001b[0;34m,\u001b[0m \u001b[0mverbose_step\u001b[0m\u001b[0;34m=\u001b[0m\u001b[0;36m20\u001b[0m\u001b[0;34m)\u001b[0m\u001b[0;34m\u001b[0m\u001b[0;34m\u001b[0m\u001b[0m\n\u001b[0m\u001b[1;32m     27\u001b[0m         \u001b[0;31m# _, train_pred_prob, train_target_prob = evaluate(train_loader)\u001b[0m\u001b[0;34m\u001b[0m\u001b[0;34m\u001b[0m\u001b[0;34m\u001b[0m\u001b[0m\n\u001b[1;32m     28\u001b[0m \u001b[0;34m\u001b[0m\u001b[0m\n",
      "\u001b[0;32m/media/ggj/Files/NvWA/code_test/2_explain/utils.py\u001b[0m in \u001b[0;36mtrain_per_epoch\u001b[0;34m(self, train_loader, epoch, verbose_step)\u001b[0m\n\u001b[1;32m    339\u001b[0m                         \u001b[0mepoch\u001b[0m\u001b[0;34m,\u001b[0m \u001b[0mbatch_idx\u001b[0m \u001b[0;34m*\u001b[0m \u001b[0mlen\u001b[0m\u001b[0;34m(\u001b[0m\u001b[0mdata\u001b[0m\u001b[0;34m)\u001b[0m\u001b[0;34m,\u001b[0m \u001b[0mlen\u001b[0m\u001b[0;34m(\u001b[0m\u001b[0mtrain_loader\u001b[0m\u001b[0;34m.\u001b[0m\u001b[0mdataset\u001b[0m\u001b[0;34m)\u001b[0m\u001b[0;34m,\u001b[0m\u001b[0;34m\u001b[0m\u001b[0;34m\u001b[0m\u001b[0m\n\u001b[1;32m    340\u001b[0m                         100. * batch_idx / len(train_loader), loss.data))\n\u001b[0;32m--> 341\u001b[0;31m             \u001b[0mbatch_losses\u001b[0m\u001b[0;34m.\u001b[0m\u001b[0mappend\u001b[0m\u001b[0;34m(\u001b[0m\u001b[0mloss\u001b[0m\u001b[0;34m.\u001b[0m\u001b[0mcpu\u001b[0m\u001b[0;34m(\u001b[0m\u001b[0;34m)\u001b[0m\u001b[0;34m.\u001b[0m\u001b[0mitem\u001b[0m\u001b[0;34m(\u001b[0m\u001b[0;34m)\u001b[0m\u001b[0;34m)\u001b[0m\u001b[0;34m\u001b[0m\u001b[0;34m\u001b[0m\u001b[0m\n\u001b[0m\u001b[1;32m    342\u001b[0m             \u001b[0maverage_loss\u001b[0m \u001b[0;34m=\u001b[0m \u001b[0mnp\u001b[0m\u001b[0;34m.\u001b[0m\u001b[0maverage\u001b[0m\u001b[0;34m(\u001b[0m\u001b[0mbatch_losses\u001b[0m\u001b[0;34m)\u001b[0m\u001b[0;34m\u001b[0m\u001b[0;34m\u001b[0m\u001b[0m\n\u001b[1;32m    343\u001b[0m         \u001b[0;32mreturn\u001b[0m \u001b[0maverage_loss\u001b[0m\u001b[0;34m\u001b[0m\u001b[0;34m\u001b[0m\u001b[0m\n",
      "\u001b[0;31mKeyboardInterrupt\u001b[0m: "
     ]
    },
    {
     "data": {
      "text/plain": [
       "<Figure size 432x288 with 0 Axes>"
      ]
     },
     "metadata": {},
     "output_type": "display_data"
    },
    {
     "data": {
      "text/plain": [
       "<Figure size 432x288 with 0 Axes>"
      ]
     },
     "metadata": {},
     "output_type": "display_data"
    },
    {
     "data": {
      "text/plain": [
       "<Figure size 432x288 with 0 Axes>"
      ]
     },
     "metadata": {},
     "output_type": "display_data"
    },
    {
     "data": {
      "text/plain": [
       "<Figure size 432x288 with 0 Axes>"
      ]
     },
     "metadata": {},
     "output_type": "display_data"
    },
    {
     "data": {
      "text/plain": [
       "<Figure size 432x288 with 0 Axes>"
      ]
     },
     "metadata": {},
     "output_type": "display_data"
    },
    {
     "data": {
      "text/plain": [
       "<Figure size 432x288 with 0 Axes>"
      ]
     },
     "metadata": {},
     "output_type": "display_data"
    },
    {
     "data": {
      "text/plain": [
       "<Figure size 432x288 with 0 Axes>"
      ]
     },
     "metadata": {},
     "output_type": "display_data"
    },
    {
     "data": {
      "text/plain": [
       "<Figure size 432x288 with 0 Axes>"
      ]
     },
     "metadata": {},
     "output_type": "display_data"
    },
    {
     "data": {
      "text/plain": [
       "<Figure size 432x288 with 0 Axes>"
      ]
     },
     "metadata": {},
     "output_type": "display_data"
    },
    {
     "data": {
      "text/plain": [
       "<Figure size 432x288 with 0 Axes>"
      ]
     },
     "metadata": {},
     "output_type": "display_data"
    },
    {
     "data": {
      "text/plain": [
       "<Figure size 432x288 with 0 Axes>"
      ]
     },
     "metadata": {},
     "output_type": "display_data"
    },
    {
     "data": {
      "text/plain": [
       "<Figure size 432x288 with 0 Axes>"
      ]
     },
     "metadata": {},
     "output_type": "display_data"
    },
    {
     "data": {
      "text/plain": [
       "<Figure size 432x288 with 0 Axes>"
      ]
     },
     "metadata": {},
     "output_type": "display_data"
    },
    {
     "data": {
      "text/plain": [
       "<Figure size 432x288 with 0 Axes>"
      ]
     },
     "metadata": {},
     "output_type": "display_data"
    },
    {
     "data": {
      "text/plain": [
       "<Figure size 432x288 with 0 Axes>"
      ]
     },
     "metadata": {},
     "output_type": "display_data"
    },
    {
     "data": {
      "text/plain": [
       "<Figure size 432x288 with 0 Axes>"
      ]
     },
     "metadata": {},
     "output_type": "display_data"
    },
    {
     "data": {
      "text/plain": [
       "<Figure size 432x288 with 0 Axes>"
      ]
     },
     "metadata": {},
     "output_type": "display_data"
    },
    {
     "data": {
      "text/plain": [
       "<Figure size 432x288 with 0 Axes>"
      ]
     },
     "metadata": {},
     "output_type": "display_data"
    },
    {
     "data": {
      "text/plain": [
       "<Figure size 432x288 with 0 Axes>"
      ]
     },
     "metadata": {},
     "output_type": "display_data"
    },
    {
     "data": {
      "text/plain": [
       "<Figure size 432x288 with 0 Axes>"
      ]
     },
     "metadata": {},
     "output_type": "display_data"
    },
    {
     "data": {
      "text/plain": [
       "<Figure size 432x288 with 0 Axes>"
      ]
     },
     "metadata": {},
     "output_type": "display_data"
    },
    {
     "data": {
      "text/plain": [
       "<Figure size 432x288 with 0 Axes>"
      ]
     },
     "metadata": {},
     "output_type": "display_data"
    },
    {
     "data": {
      "text/plain": [
       "<Figure size 432x288 with 0 Axes>"
      ]
     },
     "metadata": {},
     "output_type": "display_data"
    },
    {
     "data": {
      "text/plain": [
       "<Figure size 432x288 with 0 Axes>"
      ]
     },
     "metadata": {},
     "output_type": "display_data"
    },
    {
     "data": {
      "text/plain": [
       "<Figure size 432x288 with 0 Axes>"
      ]
     },
     "metadata": {},
     "output_type": "display_data"
    },
    {
     "data": {
      "text/plain": [
       "<Figure size 432x288 with 0 Axes>"
      ]
     },
     "metadata": {},
     "output_type": "display_data"
    },
    {
     "data": {
      "text/plain": [
       "<Figure size 432x288 with 0 Axes>"
      ]
     },
     "metadata": {},
     "output_type": "display_data"
    },
    {
     "data": {
      "text/plain": [
       "<Figure size 432x288 with 0 Axes>"
      ]
     },
     "metadata": {},
     "output_type": "display_data"
    },
    {
     "data": {
      "text/plain": [
       "<Figure size 432x288 with 0 Axes>"
      ]
     },
     "metadata": {},
     "output_type": "display_data"
    },
    {
     "data": {
      "text/plain": [
       "<Figure size 432x288 with 0 Axes>"
      ]
     },
     "metadata": {},
     "output_type": "display_data"
    },
    {
     "data": {
      "text/plain": [
       "<Figure size 432x288 with 0 Axes>"
      ]
     },
     "metadata": {},
     "output_type": "display_data"
    },
    {
     "data": {
      "text/plain": [
       "<Figure size 432x288 with 0 Axes>"
      ]
     },
     "metadata": {},
     "output_type": "display_data"
    },
    {
     "data": {
      "text/plain": [
       "<Figure size 432x288 with 0 Axes>"
      ]
     },
     "metadata": {},
     "output_type": "display_data"
    },
    {
     "data": {
      "text/plain": [
       "<Figure size 432x288 with 0 Axes>"
      ]
     },
     "metadata": {},
     "output_type": "display_data"
    },
    {
     "data": {
      "text/plain": [
       "<Figure size 432x288 with 0 Axes>"
      ]
     },
     "metadata": {},
     "output_type": "display_data"
    },
    {
     "data": {
      "text/plain": [
       "<Figure size 432x288 with 0 Axes>"
      ]
     },
     "metadata": {},
     "output_type": "display_data"
    },
    {
     "data": {
      "text/plain": [
       "<Figure size 432x288 with 0 Axes>"
      ]
     },
     "metadata": {},
     "output_type": "display_data"
    },
    {
     "data": {
      "text/plain": [
       "<Figure size 432x288 with 0 Axes>"
      ]
     },
     "metadata": {},
     "output_type": "display_data"
    },
    {
     "data": {
      "text/plain": [
       "<Figure size 432x288 with 0 Axes>"
      ]
     },
     "metadata": {},
     "output_type": "display_data"
    },
    {
     "data": {
      "text/plain": [
       "<Figure size 432x288 with 0 Axes>"
      ]
     },
     "metadata": {},
     "output_type": "display_data"
    },
    {
     "data": {
      "text/plain": [
       "<Figure size 432x288 with 0 Axes>"
      ]
     },
     "metadata": {},
     "output_type": "display_data"
    },
    {
     "data": {
      "text/plain": [
       "<Figure size 432x288 with 0 Axes>"
      ]
     },
     "metadata": {},
     "output_type": "display_data"
    },
    {
     "data": {
      "text/plain": [
       "<Figure size 432x288 with 0 Axes>"
      ]
     },
     "metadata": {},
     "output_type": "display_data"
    },
    {
     "data": {
      "text/plain": [
       "<Figure size 432x288 with 0 Axes>"
      ]
     },
     "metadata": {},
     "output_type": "display_data"
    },
    {
     "data": {
      "text/plain": [
       "<Figure size 432x288 with 0 Axes>"
      ]
     },
     "metadata": {},
     "output_type": "display_data"
    },
    {
     "data": {
      "text/plain": [
       "<Figure size 432x288 with 0 Axes>"
      ]
     },
     "metadata": {},
     "output_type": "display_data"
    },
    {
     "data": {
      "text/plain": [
       "<Figure size 432x288 with 0 Axes>"
      ]
     },
     "metadata": {},
     "output_type": "display_data"
    },
    {
     "data": {
      "text/plain": [
       "<Figure size 432x288 with 0 Axes>"
      ]
     },
     "metadata": {},
     "output_type": "display_data"
    },
    {
     "data": {
      "text/plain": [
       "<Figure size 432x288 with 0 Axes>"
      ]
     },
     "metadata": {},
     "output_type": "display_data"
    },
    {
     "data": {
      "text/plain": [
       "<Figure size 432x288 with 0 Axes>"
      ]
     },
     "metadata": {},
     "output_type": "display_data"
    }
   ],
   "source": [
    "if mode == \"train\" or mode == \"resume\":\n",
    "    if mode == \"resume\":\n",
    "        model.load_state_dict(torch.load(\"model.pth\"))\n",
    "\n",
    "    train_loss_list, val_loss_list, test_loss_list = [], [], []\n",
    "    val_r_list, test_r_list, train_r_list = [], [], []\n",
    "    lrs = []\n",
    "\n",
    "    if mode == \"resume\":\n",
    "       train_loss_list, val_loss_list, test_loss_list, train_r_list, val_r_list, test_r_list, lrs = pickle.load(open(\"./chekc_train_log.p\", \"rb\"))\n",
    "    elif mode == \"train\":\n",
    "        logs = [train_loss_list, val_loss_list, test_loss_list, train_r_list, val_r_list, test_r_list, lrs]\n",
    "        pickle.dump(logs, open(\"chekc_train_log.p\", 'wb'))\n",
    "\n",
    "    _best_val_loss = np.inf\n",
    "    _best_val_r = -np.inf\n",
    "    _best_val_epoch = 0\n",
    "\n",
    "    # train EPOCH\n",
    "    for epoch in range(EPOCH):\n",
    "        # early stop\n",
    "        if epoch >= _best_val_epoch + 10: #patience_epoch:\n",
    "            break\n",
    "\n",
    "        # train\n",
    "        train_loss = trainer.train_per_epoch(train_loader, epoch, verbose_step=20)\n",
    "        # _, train_pred_prob, train_target_prob = evaluate(train_loader)\n",
    "\n",
    "        # fpr, tpr, roc_auc = calculate_roc(train_target_prob, train_pred_prob)\n",
    "        # roc_l = [roc_auc[k] for k in roc_auc.keys() if roc_auc[k] >=0 and k not in [\"macro\", \"micro\"]]\n",
    "        # train_r = np.mean(roc_l)\n",
    "        # show_auc_curve(fpr, tpr, roc_auc, output_fname='current_train_roc_curves.pdf')\n",
    "        train_r = 0.5\n",
    "\n",
    "        # validation\n",
    "        val_loss, val_pred_prob, val_target_prob = trainer.evaluate(validate_loader)\n",
    "\n",
    "        fpr, tpr, roc_auc = calculate_roc(val_target_prob, val_pred_prob)\n",
    "        roc_l = [roc_auc[k] for k in roc_auc.keys() if roc_auc[k] >=0 and k not in [\"macro\", \"micro\"]]\n",
    "        val_r = np.mean(roc_l)\n",
    "        show_auc_curve(fpr, tpr, roc_auc, output_fname='current_val_roc_curves.pdf')\n",
    "        \n",
    "        # lr_scheduler\n",
    "        _lr = optimizer.param_groups[0]['lr']\n",
    "        # lr_scheduler.step(val_loss)\n",
    "\n",
    "        # test\n",
    "        test_loss, test_pred_prob, test_target_prob = trainer.evaluate(test_loader)\n",
    "        \n",
    "        fpr, tpr, roc_auc = calculate_roc(test_target_prob, test_pred_prob)\n",
    "        roc_l = [roc_auc[k] for k in roc_auc.keys() if roc_auc[k] >=0 and k not in [\"macro\", \"micro\"]]\n",
    "        test_r = np.mean(roc_l)\n",
    "        show_auc_curve(fpr, tpr, roc_auc, output_fname='current_test_roc_curves.pdf')\n",
    "        \n",
    "        # logs\n",
    "        logging.info(\"Train\\t Accuracy: %.4f\\t Loss: %.4f\\t\\n\" % (train_r, train_loss))\n",
    "        logging.info(\"Eval\\t Accuracy: %.4f\\t Loss: %.4f\\t\\n\" % (val_r, val_loss))\n",
    "\n",
    "        train_loss_list.append(train_loss); val_loss_list.append(val_loss); test_loss_list.append(test_loss)\n",
    "        train_r_list.append(train_r); val_r_list.append(val_r); test_r_list.append(test_r)\n",
    "        lrs.append(_lr) \n",
    "        show_train_log(train_loss_list, val_loss_list, val_r_list,\n",
    "                test_loss_list, test_r_list, lrs, output_fname='current_logs.pdf')\n",
    "        show_train_log(loss_val=val_loss_list[-20:], output_fname='current_loss_val20.pdf')\n",
    "        show_train_log(loss_val=val_loss_list, output_fname='current_loss_val.pdf')\n",
    "        show_train_log(loss_train=train_loss_list, output_fname='current_loss_train.pdf')\n",
    "        show_train_log(acc_val=train_r_list, output_fname='current_acc_train.pdf')\n",
    "        show_train_log(acc_val=val_r_list, output_fname='current_acc_val.pdf')\n",
    "        show_train_log(acc_test=test_r_list, output_fname='current_acc_test.pdf')\n",
    "        show_train_log(lrs=lrs, output_fname='current_lrs.pdf')\n",
    "\n",
    "        # get_current_model\n",
    "        model = trainer.get_current_model()\n",
    "        # update best\n",
    "        if val_loss < _best_val_loss or val_r > _best_val_r:\n",
    "        # if val_r > _best_val_r:\n",
    "            _best_val_loss = val_loss; _best_val_r = val_r; _best_val_epoch = epoch\n",
    "            logging.info(\"Eval\\t Best Val Accuracy: %.4f\\t Loss: %.4f\\t at Epoch: %d\\t lr: %.8f\\n\" % (_best_val_r, _best_val_loss, epoch, _lr))\n",
    "            logging.info(\"Eval\\t Test Accuracy: %.4f\\t Loss: %.4f\\n\" % (test_r, test_loss))\n",
    "            show_train_log(train_loss_list, val_loss_list, val_r_list,\n",
    "                test_loss_list, test_r_list, lrs,  output_fname='current_best_logs.pdf')\n",
    "            # shutil.copyfile(\"./Figures/current_train_roc_curves.pdf\", \"./Figures/best_train_roc_curves.pdf\")\n",
    "            shutil.copyfile(\"./Figures/current_val_roc_curves.pdf\", \"./Figures/best_val_roc_curves.pdf\")\n",
    "            shutil.copyfile(\"./Figures/current_test_roc_curves.pdf\", \"./Figures/best_test_roc_curves.pdf\")\n",
    "            model.save(\"best_model.pth\")\n",
    "            \n",
    "        elif epoch%20 == 1:\n",
    "            model.save(\"model.pth\")\n",
    "            logs = [train_loss_list, val_loss_list, test_loss_list, train_r_list, val_r_list, test_r_list, lrs]\n",
    "            pickle.dump(logs, open(\"chekc_train_log.p\", 'wb'))"
   ]
  },
  {
   "cell_type": "code",
   "execution_count": 10,
   "metadata": {
    "collapsed": true
   },
   "outputs": [
    {
     "name": "stderr",
     "output_type": "stream",
     "text": [
      "--- Logging error ---\n",
      "Traceback (most recent call last):\n",
      "  File \"/home/ggj/anaconda3/envs/pytorch-cuda/lib/python3.7/logging/__init__.py\", line 1025, in emit\n",
      "    msg = self.format(record)\n",
      "  File \"/home/ggj/anaconda3/envs/pytorch-cuda/lib/python3.7/logging/__init__.py\", line 869, in format\n",
      "    return fmt.format(record)\n",
      "  File \"/home/ggj/anaconda3/envs/pytorch-cuda/lib/python3.7/logging/__init__.py\", line 608, in format\n",
      "    record.message = record.getMessage()\n",
      "  File \"/home/ggj/anaconda3/envs/pytorch-cuda/lib/python3.7/logging/__init__.py\", line 369, in getMessage\n",
      "    msg = msg % self.args\n",
      "TypeError: not all arguments converted during string formatting\n",
      "Call stack:\n",
      "  File \"/home/ggj/anaconda3/envs/pytorch-cuda/lib/python3.7/runpy.py\", line 193, in _run_module_as_main\n",
      "    \"__main__\", mod_spec)\n",
      "  File \"/home/ggj/anaconda3/envs/pytorch-cuda/lib/python3.7/runpy.py\", line 85, in _run_code\n",
      "    exec(code, run_globals)\n",
      "  File \"/home/ggj/anaconda3/envs/pytorch-cuda/lib/python3.7/site-packages/ipykernel_launcher.py\", line 16, in <module>\n",
      "    app.launch_new_instance()\n",
      "  File \"/home/ggj/anaconda3/envs/pytorch-cuda/lib/python3.7/site-packages/traitlets/config/application.py\", line 664, in launch_instance\n",
      "    app.start()\n",
      "  File \"/home/ggj/anaconda3/envs/pytorch-cuda/lib/python3.7/site-packages/ipykernel/kernelapp.py\", line 583, in start\n",
      "    self.io_loop.start()\n",
      "  File \"/home/ggj/anaconda3/envs/pytorch-cuda/lib/python3.7/site-packages/tornado/platform/asyncio.py\", line 149, in start\n",
      "    self.asyncio_loop.run_forever()\n",
      "  File \"/home/ggj/anaconda3/envs/pytorch-cuda/lib/python3.7/asyncio/base_events.py\", line 541, in run_forever\n",
      "    self._run_once()\n",
      "  File \"/home/ggj/anaconda3/envs/pytorch-cuda/lib/python3.7/asyncio/base_events.py\", line 1786, in _run_once\n",
      "    handle._run()\n",
      "  File \"/home/ggj/anaconda3/envs/pytorch-cuda/lib/python3.7/asyncio/events.py\", line 88, in _run\n",
      "    self._context.run(self._callback, *self._args)\n",
      "  File \"/home/ggj/anaconda3/envs/pytorch-cuda/lib/python3.7/site-packages/tornado/ioloop.py\", line 690, in <lambda>\n",
      "    lambda f: self._run_callback(functools.partial(callback, future))\n",
      "  File \"/home/ggj/anaconda3/envs/pytorch-cuda/lib/python3.7/site-packages/tornado/ioloop.py\", line 743, in _run_callback\n",
      "    ret = callback()\n",
      "  File \"/home/ggj/anaconda3/envs/pytorch-cuda/lib/python3.7/site-packages/tornado/gen.py\", line 787, in inner\n",
      "    self.run()\n",
      "  File \"/home/ggj/anaconda3/envs/pytorch-cuda/lib/python3.7/site-packages/tornado/gen.py\", line 748, in run\n",
      "    yielded = self.gen.send(value)\n",
      "  File \"/home/ggj/anaconda3/envs/pytorch-cuda/lib/python3.7/site-packages/ipykernel/kernelbase.py\", line 361, in process_one\n",
      "    yield gen.maybe_future(dispatch(*args))\n",
      "  File \"/home/ggj/anaconda3/envs/pytorch-cuda/lib/python3.7/site-packages/tornado/gen.py\", line 209, in wrapper\n",
      "    yielded = next(result)\n",
      "  File \"/home/ggj/anaconda3/envs/pytorch-cuda/lib/python3.7/site-packages/ipykernel/kernelbase.py\", line 268, in dispatch_shell\n",
      "    yield gen.maybe_future(handler(stream, idents, msg))\n",
      "  File \"/home/ggj/anaconda3/envs/pytorch-cuda/lib/python3.7/site-packages/tornado/gen.py\", line 209, in wrapper\n",
      "    yielded = next(result)\n",
      "  File \"/home/ggj/anaconda3/envs/pytorch-cuda/lib/python3.7/site-packages/ipykernel/kernelbase.py\", line 541, in execute_request\n",
      "    user_expressions, allow_stdin,\n",
      "  File \"/home/ggj/anaconda3/envs/pytorch-cuda/lib/python3.7/site-packages/tornado/gen.py\", line 209, in wrapper\n",
      "    yielded = next(result)\n",
      "  File \"/home/ggj/anaconda3/envs/pytorch-cuda/lib/python3.7/site-packages/ipykernel/ipkernel.py\", line 300, in do_execute\n",
      "    res = shell.run_cell(code, store_history=store_history, silent=silent)\n",
      "  File \"/home/ggj/anaconda3/envs/pytorch-cuda/lib/python3.7/site-packages/ipykernel/zmqshell.py\", line 536, in run_cell\n",
      "    return super(ZMQInteractiveShell, self).run_cell(*args, **kwargs)\n",
      "  File \"/home/ggj/anaconda3/envs/pytorch-cuda/lib/python3.7/site-packages/IPython/core/interactiveshell.py\", line 2858, in run_cell\n",
      "    raw_cell, store_history, silent, shell_futures)\n",
      "  File \"/home/ggj/anaconda3/envs/pytorch-cuda/lib/python3.7/site-packages/IPython/core/interactiveshell.py\", line 2886, in _run_cell\n",
      "    return runner(coro)\n",
      "  File \"/home/ggj/anaconda3/envs/pytorch-cuda/lib/python3.7/site-packages/IPython/core/async_helpers.py\", line 68, in _pseudo_sync_runner\n",
      "    coro.send(None)\n",
      "  File \"/home/ggj/anaconda3/envs/pytorch-cuda/lib/python3.7/site-packages/IPython/core/interactiveshell.py\", line 3063, in run_cell_async\n",
      "    interactivity=interactivity, compiler=compiler, result=result)\n",
      "  File \"/home/ggj/anaconda3/envs/pytorch-cuda/lib/python3.7/site-packages/IPython/core/interactiveshell.py\", line 3254, in run_ast_nodes\n",
      "    if (await self.run_code(code, result,  async_=asy)):\n",
      "  File \"/home/ggj/anaconda3/envs/pytorch-cuda/lib/python3.7/site-packages/IPython/core/interactiveshell.py\", line 3331, in run_code\n",
      "    exec(code_obj, self.user_global_ns, self.user_ns)\n",
      "  File \"<ipython-input-10-6b260b08457f>\", line 9, in <module>\n",
      "    logging.info(current_r, current_mse)\n",
      "Message: 0.7578983417952049\n",
      "Arguments: (0.4496007433959416,)\n"
     ]
    }
   ],
   "source": [
    "show_train_log(loss_val=val_loss_list, output_fname='final_loss_val.pdf')\n",
    "show_train_log(loss_train=train_loss_list, output_fname='final_loss_train.pdf')\n",
    "show_train_log(acc_val=train_r_list, output_fname='final_acc_train.pdf')\n",
    "show_train_log(acc_val=val_r_list, output_fname='final_acc_val.pdf')\n",
    "show_train_log(acc_test=test_r_list, output_fname='final_acc_test.pdf')\n",
    "show_train_log(lrs=lrs, output_fname='final_lrs.pdf')\n",
    "\n",
    "current_r = np.max(test_r_list); current_mse = np.min(test_loss_list)\n",
    "logging.info(current_r, current_mse)\n",
    "\n",
    "best_NAS_mse = current_mse; best_NAS_r = current_r\n",
    "logging.info(\"\\n\"+str(model.modules)+'\\n'+\"mse\\t\"+str(best_NAS_mse)+\"\\tR2_score\\t\"+str(best_NAS_r)+\"\\n\")\n",
    "fname = time.strftime(\"./Log/best_model@\" + '%m%d_%H:%M:%S')\n",
    "shutil.copyfile(\"best_model.pth\", fname+\".params.pth\")\n",
    "model.load(fname+\".params.pth\")\n",
    "\n",
    "logs = [train_loss_list, val_loss_list, test_loss_list, train_r_list, val_r_list, test_r_list, lrs]\n",
    "pickle.dump(logs, open(fname+\".train_log.p\", 'wb'))\n",
    "logging.info(\"update best NAS\")\n",
    "logging.info(best_NAS_r)\n",
    "logging.info(best_NAS_mse)"
   ]
  },
  {
   "cell_type": "code",
   "execution_count": 12,
   "metadata": {
    "collapsed": true
   },
   "outputs": [
    {
     "data": {
      "text/plain": [
       "<Figure size 432x288 with 0 Axes>"
      ]
     },
     "metadata": {},
     "output_type": "display_data"
    },
    {
     "data": {
      "text/plain": [
       "<Figure size 432x288 with 0 Axes>"
      ]
     },
     "metadata": {},
     "output_type": "display_data"
    },
    {
     "data": {
      "text/plain": [
       "<Figure size 432x288 with 0 Axes>"
      ]
     },
     "metadata": {},
     "output_type": "display_data"
    },
    {
     "data": {
      "text/plain": [
       "<Figure size 432x288 with 0 Axes>"
      ]
     },
     "metadata": {},
     "output_type": "display_data"
    },
    {
     "data": {
      "text/plain": [
       "<Figure size 432x288 with 0 Axes>"
      ]
     },
     "metadata": {},
     "output_type": "display_data"
    },
    {
     "data": {
      "text/plain": [
       "<Figure size 432x288 with 0 Axes>"
      ]
     },
     "metadata": {},
     "output_type": "display_data"
    },
    {
     "data": {
      "text/plain": [
       "<Figure size 432x288 with 0 Axes>"
      ]
     },
     "metadata": {},
     "output_type": "display_data"
    },
    {
     "data": {
      "text/plain": [
       "<Figure size 432x288 with 0 Axes>"
      ]
     },
     "metadata": {},
     "output_type": "display_data"
    },
    {
     "data": {
      "text/plain": [
       "<Figure size 432x288 with 0 Axes>"
      ]
     },
     "metadata": {},
     "output_type": "display_data"
    },
    {
     "data": {
      "text/plain": [
       "<Figure size 432x288 with 0 Axes>"
      ]
     },
     "metadata": {},
     "output_type": "display_data"
    },
    {
     "data": {
      "text/plain": [
       "<Figure size 432x288 with 0 Axes>"
      ]
     },
     "metadata": {},
     "output_type": "display_data"
    },
    {
     "data": {
      "text/plain": [
       "<Figure size 432x288 with 0 Axes>"
      ]
     },
     "metadata": {},
     "output_type": "display_data"
    },
    {
     "data": {
      "text/plain": [
       "<Figure size 432x288 with 0 Axes>"
      ]
     },
     "metadata": {},
     "output_type": "display_data"
    },
    {
     "data": {
      "text/plain": [
       "<Figure size 432x288 with 0 Axes>"
      ]
     },
     "metadata": {},
     "output_type": "display_data"
    },
    {
     "data": {
      "text/plain": [
       "<Figure size 432x288 with 0 Axes>"
      ]
     },
     "metadata": {},
     "output_type": "display_data"
    },
    {
     "data": {
      "text/plain": [
       "<Figure size 432x288 with 0 Axes>"
      ]
     },
     "metadata": {},
     "output_type": "display_data"
    },
    {
     "data": {
      "text/plain": [
       "<Figure size 432x288 with 0 Axes>"
      ]
     },
     "metadata": {},
     "output_type": "display_data"
    },
    {
     "data": {
      "text/plain": [
       "<Figure size 432x288 with 0 Axes>"
      ]
     },
     "metadata": {},
     "output_type": "display_data"
    },
    {
     "data": {
      "text/plain": [
       "<Figure size 432x288 with 0 Axes>"
      ]
     },
     "metadata": {},
     "output_type": "display_data"
    },
    {
     "data": {
      "text/plain": [
       "<Figure size 432x288 with 0 Axes>"
      ]
     },
     "metadata": {},
     "output_type": "display_data"
    }
   ],
   "source": [
    "os.makedirs(\"./Test\", exist_ok=True)\n",
    "\n",
    "model.load_state_dict(torch.load(\"./best_model.pth\"))\n",
    "model.to(device)\n",
    "model.eval()\n",
    "\n",
    "test_target_l, test_pred_l, test_roc_l = [], [], []\n",
    "# test for 20 times\n",
    "for idx in range(20):\n",
    "    # test\n",
    "    test_loss, test_pred_prob, test_target_prob = trainer.evaluate(test_loader)\n",
    "\n",
    "    fpr, tpr, roc_auc = calculate_roc(test_target_prob, test_pred_prob)\n",
    "    roc_l = [roc_auc[k] for k in roc_auc.keys() if roc_auc[k] >=0 and k not in [\"macro\", \"micro\"]]\n",
    "    test_r = np.mean(roc_l)\n",
    "    show_auc_curve(fpr, tpr, roc_auc, output_dir='./Test', output_fname='test_'+str(idx)+'_mode_roc_curves.pdf')\n",
    "\n",
    "    # pd.DataFrame(test_target_prob, columns=celltype).to_csv(\"./Test/test_\"+str(idx)+\"_mode_target_prob.csv\")\n",
    "    pd.DataFrame(test_pred_prob, columns=celltype, index=test_gene).to_csv(\"./Test/test_\"+str(idx)+\"_mode_pred_prob.csv\")\n",
    "\n",
    "    test_target_l.append(test_target_prob)\n",
    "    test_pred_l.append(test_pred_prob)\n",
    "    test_roc_l.append(roc_l)\n",
    "\n",
    "test_target = np.array(test_target_l).mean(0)\n",
    "test_pred = np.array(test_pred_l).mean(0)\n",
    "test_roc = np.array(test_roc_l).mean(0)\n",
    "\n",
    "logging.info(test_target.shape)\n",
    "logging.info(test_roc.shape)\n",
    "\n",
    "pd.DataFrame(test_target, columns=celltype, index=test_gene).to_csv(\"./Test/test_target_prob.csv\")\n",
    "pd.DataFrame(test_pred, columns=celltype, index=test_gene).to_csv(\"./Test/test_mode_pred_prob.csv\")\n",
    "pd.DataFrame(test_roc, index=celltype).to_csv(\"./Test/test_mode_roc.csv\")\n",
    "\n",
    "logging.info(\"Test finished.\")\n"
   ]
  },
  {
   "cell_type": "code",
   "execution_count": null,
   "metadata": {},
   "outputs": [],
   "source": []
  },
  {
   "cell_type": "markdown",
   "metadata": {},
   "source": [
    "## explainer"
   ]
  },
  {
   "cell_type": "code",
   "execution_count": 9,
   "metadata": {},
   "outputs": [],
   "source": [
    "from explainer import *\n",
    "os.makedirs(\"Motif\", exist_ok=True)"
   ]
  },
  {
   "cell_type": "code",
   "execution_count": 10,
   "metadata": {},
   "outputs": [
    {
     "data": {
      "text/plain": [
       "Net(\n",
       "  (Embedding): CNN(\n",
       "    (conv1): Sequential(\n",
       "      (conv): Conv1d(4, 64, kernel_size=(7,), stride=(1,))\n",
       "      (activate): ReLU()\n",
       "      (pool): AvgPool1d(kernel_size=(7,), stride=(7,), padding=(0,))\n",
       "    )\n",
       "    (conv2): Sequential(\n",
       "      (conv): Conv1d(64, 128, kernel_size=(7,), stride=(1,), dilation=(2,))\n",
       "      (activate): ReLU()\n",
       "      (pool): AvgPool1d(kernel_size=(7,), stride=(7,), padding=(0,))\n",
       "    )\n",
       "    (conv3): Sequential(\n",
       "      (conv): Conv1d(128, 512, kernel_size=(9,), stride=(1,), dilation=(3,))\n",
       "      (activate): ReLU()\n",
       "      (pool): AvgPool1d(kernel_size=(9,), stride=(9,), padding=(0,))\n",
       "    )\n",
       "    (globalpooling): AdaptiveAvgPool1d(output_size=8)\n",
       "  )\n",
       "  (MLP): MLP(\n",
       "    (fc1): Sequential(\n",
       "      (0): Linear(in_features=4096, out_features=2048, bias=True)\n",
       "      (1): ReLU()\n",
       "      (2): Dropout(p=0.7)\n",
       "    )\n",
       "    (fc2): Sequential(\n",
       "      (0): Linear(in_features=2048, out_features=2048, bias=True)\n",
       "      (1): ReLU()\n",
       "      (2): Dropout(p=0.5)\n",
       "    )\n",
       "    (fc3): Sequential(\n",
       "      (0): Linear(in_features=2048, out_features=2048, bias=True)\n",
       "      (1): ReLU()\n",
       "      (2): Dropout(p=0.3)\n",
       "    )\n",
       "  )\n",
       "  (pred): Sequential(\n",
       "    (0): Linear(in_features=2048, out_features=704, bias=True)\n",
       "    (1): Sigmoid()\n",
       "  )\n",
       ")"
      ]
     },
     "execution_count": 10,
     "metadata": {},
     "output_type": "execute_result"
    }
   ],
   "source": [
    "model.load_state_dict(torch.load(\"./Log/best_model@1016_12:42:48.params.pth\", map_location=device))\n",
    "# model.Embedding.load_state_dict(torch.load(\"./Log/embedder_init_params.pth\"))\n",
    "model.to(device)\n",
    "model.eval()"
   ]
  },
  {
   "cell_type": "markdown",
   "metadata": {},
   "source": [
    "# get motif\n",
    "## convolution layer 1"
   ]
  },
  {
   "cell_type": "code",
   "execution_count": 138,
   "metadata": {
    "scrolled": true
   },
   "outputs": [
    {
     "data": {
      "text/plain": [
       "((2000, 64, 9994), (2000, 4, 10000))"
      ]
     },
     "execution_count": 138,
     "metadata": {},
     "output_type": "execute_result"
    }
   ],
   "source": [
    "fmap1, X1 = get_fmap(model, model.Embedding.conv1[0], test_loader)\n",
    "fmap1.shape, X1.shape"
   ]
  },
  {
   "cell_type": "code",
   "execution_count": 143,
   "metadata": {
    "scrolled": true
   },
   "outputs": [
    {
     "data": {
      "text/plain": [
       "(64, 4, 10)"
      ]
     },
     "execution_count": 143,
     "metadata": {},
     "output_type": "execute_result"
    }
   ],
   "source": [
    "W1_new = get_activate_seq_from_fmap(fmap1, X1, pool=1, threshold=0.9, motif_width=8)\n",
    "W1.shape"
   ]
  },
  {
   "cell_type": "code",
   "execution_count": 140,
   "metadata": {},
   "outputs": [],
   "source": [
    "meme_generate(W1, output_file=\"./Motif/meme_conv1_new.txt\")"
   ]
  },
  {
   "cell_type": "code",
   "execution_count": 149,
   "metadata": {},
   "outputs": [],
   "source": [
    "filter_heatmap_W(W1_new, factor=None, fig_size=(10,4), save=True)"
   ]
  },
  {
   "cell_type": "code",
   "execution_count": 16,
   "metadata": {},
   "outputs": [],
   "source": [
    "out_fname = \"./Motif/test_gene_activate_conv1.fasta\"\n",
    "gene_seq, gene_name = get_activate_sequence_from_fmap(fmap1, X1, pool=1, threshold=0.999, motif_width=20)\n",
    "onehot2seq(gene_seq, gene_name, out_fname)"
   ]
  },
  {
   "cell_type": "markdown",
   "metadata": {},
   "source": [
    "## convolution layer 2"
   ]
  },
  {
   "cell_type": "code",
   "execution_count": 145,
   "metadata": {
    "scrolled": true
   },
   "outputs": [
    {
     "data": {
      "text/plain": [
       "((2000, 128, 1415), (2000, 4, 10000))"
      ]
     },
     "execution_count": 145,
     "metadata": {},
     "output_type": "execute_result"
    }
   ],
   "source": [
    "fmap2, X2 = get_fmap(model, model.Embedding.conv2[1], test_loader)\n",
    "fmap2.shape, X2.shape"
   ]
  },
  {
   "cell_type": "code",
   "execution_count": 146,
   "metadata": {},
   "outputs": [
    {
     "data": {
      "text/plain": [
       "(2000, 64, 1427)"
      ]
     },
     "execution_count": 146,
     "metadata": {},
     "output_type": "execute_result"
    }
   ],
   "source": [
    "fmap1, _ = get_fmap(model, model.Embedding.conv1[2], test_loader)\n",
    "fmap1.shape"
   ]
  },
  {
   "cell_type": "code",
   "execution_count": 147,
   "metadata": {
    "scrolled": true
   },
   "outputs": [
    {
     "data": {
      "text/plain": [
       "(128, 64, 9)"
      ]
     },
     "execution_count": 147,
     "metadata": {},
     "output_type": "execute_result"
    }
   ],
   "source": [
    "W2 = get_activate_seq_from_fmap(fmap2, fmap1, threshold=0.9, motif_width=7)\n",
    "W2.shape"
   ]
  },
  {
   "cell_type": "code",
   "execution_count": 87,
   "metadata": {
    "scrolled": true
   },
   "outputs": [
    {
     "data": {
      "text/plain": [
       "(128, 4, 70)"
      ]
     },
     "execution_count": 87,
     "metadata": {},
     "output_type": "execute_result"
    }
   ],
   "source": [
    "W2 = get_activate_seq(model, model.Embedding.conv2[0], test_loader, pool=7, threshold=0.99, motif_width=10)\n",
    "W2.shape"
   ]
  },
  {
   "cell_type": "code",
   "execution_count": 89,
   "metadata": {},
   "outputs": [],
   "source": [
    "meme_generate(W2, output_file=\"./Motif/meme_conv2.txt\")"
   ]
  },
  {
   "cell_type": "code",
   "execution_count": 90,
   "metadata": {},
   "outputs": [],
   "source": [
    "out_fname = \"./Motif/test_gene_activate_conv2.fasta\"\n",
    "save_activate_sequence(model, model.Embedding.conv2[0], test_loader, out_fname, pool=7)"
   ]
  },
  {
   "cell_type": "markdown",
   "metadata": {},
   "source": [
    "## convolution layer 3"
   ]
  },
  {
   "cell_type": "code",
   "execution_count": 156,
   "metadata": {},
   "outputs": [
    {
     "data": {
      "text/plain": [
       "((2000, 512, 178), (2000, 4, 10000))"
      ]
     },
     "execution_count": 156,
     "metadata": {},
     "output_type": "execute_result"
    }
   ],
   "source": [
    "fmap3, X3 = get_fmap(model, model.Embedding.conv3[0], test_loader)\n",
    "fmap3.shape, X3.shape"
   ]
  },
  {
   "cell_type": "code",
   "execution_count": 92,
   "metadata": {},
   "outputs": [
    {
     "data": {
      "text/plain": [
       "(2000, 128, 202)"
      ]
     },
     "execution_count": 92,
     "metadata": {},
     "output_type": "execute_result"
    }
   ],
   "source": [
    "fmap2, _ = get_fmap(model, model.Embedding.conv2[2], test_loader)\n",
    "fmap2.shape"
   ]
  },
  {
   "cell_type": "code",
   "execution_count": 93,
   "metadata": {
    "scrolled": true
   },
   "outputs": [
    {
     "data": {
      "text/plain": [
       "(512, 128, 10)"
      ]
     },
     "execution_count": 93,
     "metadata": {},
     "output_type": "execute_result"
    }
   ],
   "source": [
    "W3 = get_activate_seq_from_fmap(fmap3, fmap2, threshold=0.999, motif_width=10)\n",
    "W3.shape"
   ]
  },
  {
   "cell_type": "code",
   "execution_count": 104,
   "metadata": {},
   "outputs": [],
   "source": [
    "filter_heatmap_W(W3, factor=None, fig_size=(4, 25), save=True)"
   ]
  },
  {
   "cell_type": "code",
   "execution_count": 97,
   "metadata": {},
   "outputs": [],
   "source": [
    "W3 = get_activate_seq(model, model.Embedding.conv3[0], test_loader, pool=7*7, threshold=0.90, motif_width=10)"
   ]
  },
  {
   "cell_type": "code",
   "execution_count": 98,
   "metadata": {},
   "outputs": [],
   "source": [
    "meme_generate(W3, output_file=\"./Motif/meme_conv3.txt\")"
   ]
  },
  {
   "cell_type": "code",
   "execution_count": 99,
   "metadata": {},
   "outputs": [],
   "source": [
    "out_fname = \"./Motif/test_gene_activate_conv3.fasta\"\n",
    "save_activate_sequence(model, model.Embedding.conv3[0], test_loader, out_fname, pool=7*7)"
   ]
  },
  {
   "cell_type": "code",
   "execution_count": null,
   "metadata": {},
   "outputs": [],
   "source": []
  },
  {
   "cell_type": "markdown",
   "metadata": {},
   "source": [
    "# analyse motif frequency"
   ]
  },
  {
   "cell_type": "code",
   "execution_count": 166,
   "metadata": {},
   "outputs": [],
   "source": [
    "W1_freq = calc_frequency_W(W1, background=0.25)\n",
    "W2_freq = calc_frequency_W(W2, background=0.25)\n",
    "W3_freq = calc_frequency_W(W3, background=0.25)"
   ]
  },
  {
   "cell_type": "code",
   "execution_count": null,
   "metadata": {},
   "outputs": [],
   "source": []
  },
  {
   "cell_type": "markdown",
   "metadata": {},
   "source": [
    "# tsne-dense "
   ]
  },
  {
   "cell_type": "code",
   "execution_count": 160,
   "metadata": {},
   "outputs": [
    {
     "data": {
      "text/plain": [
       "(2000, 2048)"
      ]
     },
     "execution_count": 160,
     "metadata": {},
     "output_type": "execute_result"
    }
   ],
   "source": [
    "fmap_dense, _ = get_fmap(model, model.MLP.fc3[2], test_loader)\n",
    "fmap_dense.shape"
   ]
  },
  {
   "cell_type": "code",
   "execution_count": 161,
   "metadata": {},
   "outputs": [],
   "source": [
    "from sklearn.manifold import TSNE"
   ]
  },
  {
   "cell_type": "code",
   "execution_count": 162,
   "metadata": {},
   "outputs": [
    {
     "data": {
      "text/plain": [
       "(2000, 2)"
      ]
     },
     "execution_count": 162,
     "metadata": {},
     "output_type": "execute_result"
    }
   ],
   "source": [
    "fmap_emb = TSNE(n_components=2).fit_transform(fmap_dense)\n",
    "fmap_emb.shape"
   ]
  },
  {
   "cell_type": "code",
   "execution_count": 164,
   "metadata": {},
   "outputs": [
    {
     "data": {
      "text/plain": [
       "<matplotlib.axes._subplots.AxesSubplot at 0x7f321e5f2290>"
      ]
     },
     "execution_count": 164,
     "metadata": {},
     "output_type": "execute_result"
    },
    {
     "data": {
      "image/png": "[encoded data removed]",
      "text/plain": [
       "<Figure size 432x288 with 1 Axes>"
      ]
     },
     "metadata": {
      "needs_background": "light"
     },
     "output_type": "display_data"
    }
   ],
   "source": [
    "sns.scatterplot(x=fmap_emb[:,0], y=fmap_emb[:,1])"
   ]
  },
  {
   "cell_type": "code",
   "execution_count": null,
   "metadata": {},
   "outputs": [],
   "source": []
  },
  {
   "cell_type": "markdown",
   "metadata": {},
   "source": [
    "# saliancy score"
   ]
  },
  {
   "cell_type": "code",
   "execution_count": 73,
   "metadata": {
    "scrolled": true
   },
   "outputs": [
    {
     "data": {
      "text/plain": [
       "torch.Size([128, 4, 7000])"
      ]
     },
     "execution_count": 73,
     "metadata": {},
     "output_type": "execute_result"
    }
   ],
   "source": [
    "input_tensor = torch.from_numpy(x_test[:128, :, 6500:13500]).to(device)\n",
    "input_tensor.shape"
   ]
  },
  {
   "cell_type": "code",
   "execution_count": 74,
   "metadata": {
    "scrolled": true
   },
   "outputs": [
    {
     "data": {
      "image/png": "[encoded data removed]",
      "text/plain": [
       "<Figure size 2160x288 with 1 Axes>"
      ]
     },
     "metadata": {
      "needs_background": "light"
     },
     "output_type": "display_data"
    }
   ],
   "source": [
    "plot_saliancy_location(model_init, input_tensor, n_class=10)"
   ]
  },
  {
   "cell_type": "code",
   "execution_count": 75,
   "metadata": {
    "scrolled": true
   },
   "outputs": [
    {
     "data": {
      "image/png": "[encoded data removed]",
      "text/plain": [
       "<Figure size 2160x288 with 1 Axes>"
      ]
     },
     "metadata": {
      "needs_background": "light"
     },
     "output_type": "display_data"
    }
   ],
   "source": [
    "plot_saliancy_location(model, input_tensor, n_class=10)"
   ]
  },
  {
   "cell_type": "code",
   "execution_count": null,
   "metadata": {},
   "outputs": [],
   "source": []
  },
  {
   "cell_type": "code",
   "execution_count": null,
   "metadata": {},
   "outputs": [],
   "source": []
  },
  {
   "cell_type": "markdown",
   "metadata": {},
   "source": [
    "# layer conductance"
   ]
  },
  {
   "cell_type": "code",
   "execution_count": 38,
   "metadata": {},
   "outputs": [],
   "source": [
    "df_conv1 = label_neuron_importance(model, model.Embedding.conv1[0], input_tensor, label=celltype)"
   ]
  },
  {
   "cell_type": "code",
   "execution_count": 51,
   "metadata": {},
   "outputs": [],
   "source": [
    "plt.figure(figsize=(30,100))\n",
    "ax = sns.heatmap(df_conv1, cmap=\"vlag\")\n",
    "plt.savefig(\"./Motif_layer_conductance/importance_conv1_large.pdf\")\n",
    "plt.close()"
   ]
  },
  {
   "cell_type": "code",
   "execution_count": null,
   "metadata": {},
   "outputs": [],
   "source": []
  },
  {
   "cell_type": "code",
   "execution_count": 41,
   "metadata": {},
   "outputs": [],
   "source": [
    "df_conv2 = label_neuron_importance(model, model.Embedding.conv2[0], input_tensor, label=celltype)"
   ]
  },
  {
   "cell_type": "code",
   "execution_count": 52,
   "metadata": {},
   "outputs": [],
   "source": [
    "plt.figure(figsize=(40,100))\n",
    "ax = sns.heatmap(df_conv2, cmap=\"vlag\")\n",
    "plt.savefig(\"./Motif_layer_conductance/importance_conv2_large.pdf\")\n",
    "plt.close()"
   ]
  },
  {
   "cell_type": "code",
   "execution_count": null,
   "metadata": {},
   "outputs": [],
   "source": []
  },
  {
   "cell_type": "code",
   "execution_count": 40,
   "metadata": {},
   "outputs": [],
   "source": [
    "df_conv3 = label_neuron_importance(model, model.Embedding.conv3[0], input_tensor, label=celltype)"
   ]
  },
  {
   "cell_type": "code",
   "execution_count": 49,
   "metadata": {
    "scrolled": false
   },
   "outputs": [],
   "source": [
    "plt.figure(figsize=(50,100))\n",
    "ax = sns.heatmap(df_conv3, cmap=\"vlag\")\n",
    "plt.savefig(\"./Motif_layer_conductance/importance_conv3_large.pdf\")\n",
    "plt.close()"
   ]
  },
  {
   "cell_type": "code",
   "execution_count": null,
   "metadata": {},
   "outputs": [],
   "source": []
  },
  {
   "cell_type": "code",
   "execution_count": null,
   "metadata": {},
   "outputs": [],
   "source": [
    "df_conv1.to_csv(\"./Motif/importance_conv1.csv\")\n",
    "df_conv2.to_csv(\"./Motif/importance_conv2.csv\")\n",
    "df_conv3.to_csv(\"./Motif/importance_conv3.csv\")"
   ]
  }
 ],
 "metadata": {
  "kernelspec": {
   "display_name": "Python [conda env:pytorch-cuda]",
   "language": "python",
   "name": "conda-env-pytorch-cuda-py"
  },
  "language_info": {
   "codemirror_mode": {
    "name": "ipython",
    "version": 3
   },
   "file_extension": ".py",
   "mimetype": "text/x-python",
   "name": "python",
   "nbconvert_exporter": "python",
   "pygments_lexer": "ipython3",
   "version": "3.7.7"
  }
 },
 "nbformat": 4,
 "nbformat_minor": 2
}
